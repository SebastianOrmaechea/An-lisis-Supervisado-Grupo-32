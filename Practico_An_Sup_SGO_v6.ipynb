{
  "cells": [
    {
      "cell_type": "markdown",
      "metadata": {
        "id": "view-in-github",
        "colab_type": "text"
      },
      "source": [
        "<a href=\"https://colab.research.google.com/github/SebastianOrmaechea/Analisis-Supervisado-Grupo-32/blob/Sebastian-Ormaechea/Practico_An_Sup_SGO_v6.ipynb\" target=\"_parent\"><img src=\"https://colab.research.google.com/assets/colab-badge.svg\" alt=\"Open In Colab\"/></a>"
      ]
    },
    {
      "cell_type": "markdown",
      "metadata": {
        "id": "8vMat4qYuXSG"
      },
      "source": [
        "# DiploDatos Kaggle Competition"
      ]
    },
    {
      "cell_type": "markdown",
      "metadata": {
        "id": "cAyjxsiWuXSJ"
      },
      "source": [
        "Presentamos un código creado como ejemplo de base para la competición.\n",
        "\n",
        "Deben:\n",
        "\n",
        "- Explorar los datos y aprender de ellos.\n",
        "- Probar diferentes modelos y ver cuáles ajustan mejor dado los datos.\n",
        "- **Obtener una accuracy mejor que la que se presenta en este ejemplo.**\n",
        "- Tratar de obtener la accuracy más alta posible!\n",
        "- Discutir la elección de modelo.\n",
        "\n",
        "El análisis exploratorio y el preprocesamiento de los datos queda a libertad de cada grupo y no deben quedarse con este simple ejemplo."
      ]
    },
    {
      "cell_type": "code",
      "execution_count": 1,
      "metadata": {
        "id": "w9suUi6HuXSK"
      },
      "outputs": [],
      "source": [
        "import pandas as pd\n",
        "import numpy as np\n",
        "import matplotlib.pyplot as plt\n",
        "\n",
        "from sklearn.preprocessing import StandardScaler, LabelEncoder\n",
        "from sklearn.impute import SimpleImputer\n",
        "from sklearn.model_selection import train_test_split, GridSearchCV, StratifiedKFold\n",
        "from sklearn.metrics import accuracy_score, ConfusionMatrixDisplay, classification_report\n",
        "\n",
        "from sklearn.tree import DecisionTreeClassifier"
      ]
    },
    {
      "cell_type": "code",
      "source": [
        "df = pd.read_csv('train.csv')\n",
        "print(df.shape)\n",
        "print(df.describe())"
      ],
      "metadata": {
        "id": "ZVOB_C8yyvFm",
        "colab": {
          "base_uri": "https://localhost:8080/"
        },
        "outputId": "ef534f1a-d086-4faf-d711-d7319bb4d7a6"
      },
      "execution_count": 2,
      "outputs": [
        {
          "output_type": "stream",
          "name": "stdout",
          "text": [
            "(7823, 14)\n",
            "       PassengerId          Age   RoomService     FoodCourt  ShoppingMall  \\\n",
            "count  7823.000000  7661.000000   7669.000000   7668.000000   7635.000000   \n",
            "mean   4345.691039    28.879389    226.078237    455.643062    172.600393   \n",
            "std    2504.576803    14.461548    679.180148   1621.290107    597.923749   \n",
            "min       0.000000     0.000000      0.000000      0.000000      0.000000   \n",
            "25%    2182.500000    19.000000      0.000000      0.000000      0.000000   \n",
            "50%    4345.000000    27.000000      0.000000      0.000000      0.000000   \n",
            "75%    6515.500000    38.000000     44.000000     69.000000     28.000000   \n",
            "max    8692.000000    79.000000  14327.000000  29813.000000  23492.000000   \n",
            "\n",
            "                Spa        VRDeck  Transported  \n",
            "count   7665.000000   7654.000000  7823.000000  \n",
            "mean     305.023222    295.476744     0.506711  \n",
            "std     1133.423579   1093.485752     0.499987  \n",
            "min        0.000000      0.000000     0.000000  \n",
            "25%        0.000000      0.000000     0.000000  \n",
            "50%        0.000000      0.000000     1.000000  \n",
            "75%       58.000000     46.000000     1.000000  \n",
            "max    22408.000000  24133.000000     1.000000  \n"
          ]
        }
      ]
    },
    {
      "cell_type": "code",
      "source": [
        "#Revisamos si hay registros duplicados y encontramos que no hay ninguno\n",
        "df.duplicated().any()"
      ],
      "metadata": {
        "colab": {
          "base_uri": "https://localhost:8080/"
        },
        "id": "jSCGpu10ywCi",
        "outputId": "02cd2bb1-5943-4af8-8106-c9ff47b69c4e"
      },
      "execution_count": 3,
      "outputs": [
        {
          "output_type": "execute_result",
          "data": {
            "text/plain": [
              "False"
            ]
          },
          "metadata": {},
          "execution_count": 3
        }
      ]
    },
    {
      "cell_type": "code",
      "source": [
        "# Subdivisión del dataset entre variables predictoras (X) y target(y). ¿Y la división entre datos de entrenamiento y test?\n",
        "y = df.Transported\n",
        "X = df.drop('Transported',axis=1)\n",
        "X.head()"
      ],
      "metadata": {
        "colab": {
          "base_uri": "https://localhost:8080/",
          "height": 206
        },
        "id": "ec0wFEiiCQn8",
        "outputId": "8395349a-905d-471e-d1d4-c4c2666585ab"
      },
      "execution_count": 4,
      "outputs": [
        {
          "output_type": "execute_result",
          "data": {
            "text/plain": [
              "   PassengerId HomePlanet CryoSleep     Cabin  Destination   Age    VIP  \\\n",
              "0         3430     Europa     False   C/123/P  TRAPPIST-1e  57.0  False   \n",
              "1          669       Mars      True   F/126/S          NaN  18.0  False   \n",
              "2         8430     Europa      True   B/343/S  TRAPPIST-1e  33.0    NaN   \n",
              "3         6463      Earth     False  F/1420/P  TRAPPIST-1e  43.0  False   \n",
              "4           85      Earth     False     G/9/P  TRAPPIST-1e  19.0  False   \n",
              "\n",
              "   RoomService  FoodCourt  ShoppingMall    Spa  VRDeck               Name  \n",
              "0          0.0     3859.0          13.0  195.0  3874.0     Azhah Tronsive  \n",
              "1          0.0        0.0           0.0    0.0     0.0         Roswal Sha  \n",
              "2          0.0        0.0           0.0    0.0     0.0  Shaiam Tinganking  \n",
              "3        142.0     1208.0           0.0    0.0   204.0     Landa Grifford  \n",
              "4          0.0        0.0         670.0    1.0    34.0     Gracy Dunnisey  "
            ],
            "text/html": [
              "\n",
              "  <div id=\"df-33a82643-6887-46ca-b822-98d00ac39cb2\">\n",
              "    <div class=\"colab-df-container\">\n",
              "      <div>\n",
              "<style scoped>\n",
              "    .dataframe tbody tr th:only-of-type {\n",
              "        vertical-align: middle;\n",
              "    }\n",
              "\n",
              "    .dataframe tbody tr th {\n",
              "        vertical-align: top;\n",
              "    }\n",
              "\n",
              "    .dataframe thead th {\n",
              "        text-align: right;\n",
              "    }\n",
              "</style>\n",
              "<table border=\"1\" class=\"dataframe\">\n",
              "  <thead>\n",
              "    <tr style=\"text-align: right;\">\n",
              "      <th></th>\n",
              "      <th>PassengerId</th>\n",
              "      <th>HomePlanet</th>\n",
              "      <th>CryoSleep</th>\n",
              "      <th>Cabin</th>\n",
              "      <th>Destination</th>\n",
              "      <th>Age</th>\n",
              "      <th>VIP</th>\n",
              "      <th>RoomService</th>\n",
              "      <th>FoodCourt</th>\n",
              "      <th>ShoppingMall</th>\n",
              "      <th>Spa</th>\n",
              "      <th>VRDeck</th>\n",
              "      <th>Name</th>\n",
              "    </tr>\n",
              "  </thead>\n",
              "  <tbody>\n",
              "    <tr>\n",
              "      <th>0</th>\n",
              "      <td>3430</td>\n",
              "      <td>Europa</td>\n",
              "      <td>False</td>\n",
              "      <td>C/123/P</td>\n",
              "      <td>TRAPPIST-1e</td>\n",
              "      <td>57.0</td>\n",
              "      <td>False</td>\n",
              "      <td>0.0</td>\n",
              "      <td>3859.0</td>\n",
              "      <td>13.0</td>\n",
              "      <td>195.0</td>\n",
              "      <td>3874.0</td>\n",
              "      <td>Azhah Tronsive</td>\n",
              "    </tr>\n",
              "    <tr>\n",
              "      <th>1</th>\n",
              "      <td>669</td>\n",
              "      <td>Mars</td>\n",
              "      <td>True</td>\n",
              "      <td>F/126/S</td>\n",
              "      <td>NaN</td>\n",
              "      <td>18.0</td>\n",
              "      <td>False</td>\n",
              "      <td>0.0</td>\n",
              "      <td>0.0</td>\n",
              "      <td>0.0</td>\n",
              "      <td>0.0</td>\n",
              "      <td>0.0</td>\n",
              "      <td>Roswal Sha</td>\n",
              "    </tr>\n",
              "    <tr>\n",
              "      <th>2</th>\n",
              "      <td>8430</td>\n",
              "      <td>Europa</td>\n",
              "      <td>True</td>\n",
              "      <td>B/343/S</td>\n",
              "      <td>TRAPPIST-1e</td>\n",
              "      <td>33.0</td>\n",
              "      <td>NaN</td>\n",
              "      <td>0.0</td>\n",
              "      <td>0.0</td>\n",
              "      <td>0.0</td>\n",
              "      <td>0.0</td>\n",
              "      <td>0.0</td>\n",
              "      <td>Shaiam Tinganking</td>\n",
              "    </tr>\n",
              "    <tr>\n",
              "      <th>3</th>\n",
              "      <td>6463</td>\n",
              "      <td>Earth</td>\n",
              "      <td>False</td>\n",
              "      <td>F/1420/P</td>\n",
              "      <td>TRAPPIST-1e</td>\n",
              "      <td>43.0</td>\n",
              "      <td>False</td>\n",
              "      <td>142.0</td>\n",
              "      <td>1208.0</td>\n",
              "      <td>0.0</td>\n",
              "      <td>0.0</td>\n",
              "      <td>204.0</td>\n",
              "      <td>Landa Grifford</td>\n",
              "    </tr>\n",
              "    <tr>\n",
              "      <th>4</th>\n",
              "      <td>85</td>\n",
              "      <td>Earth</td>\n",
              "      <td>False</td>\n",
              "      <td>G/9/P</td>\n",
              "      <td>TRAPPIST-1e</td>\n",
              "      <td>19.0</td>\n",
              "      <td>False</td>\n",
              "      <td>0.0</td>\n",
              "      <td>0.0</td>\n",
              "      <td>670.0</td>\n",
              "      <td>1.0</td>\n",
              "      <td>34.0</td>\n",
              "      <td>Gracy Dunnisey</td>\n",
              "    </tr>\n",
              "  </tbody>\n",
              "</table>\n",
              "</div>\n",
              "      <button class=\"colab-df-convert\" onclick=\"convertToInteractive('df-33a82643-6887-46ca-b822-98d00ac39cb2')\"\n",
              "              title=\"Convert this dataframe to an interactive table.\"\n",
              "              style=\"display:none;\">\n",
              "        \n",
              "  <svg xmlns=\"http://www.w3.org/2000/svg\" height=\"24px\"viewBox=\"0 0 24 24\"\n",
              "       width=\"24px\">\n",
              "    <path d=\"M0 0h24v24H0V0z\" fill=\"none\"/>\n",
              "    <path d=\"M18.56 5.44l.94 2.06.94-2.06 2.06-.94-2.06-.94-.94-2.06-.94 2.06-2.06.94zm-11 1L8.5 8.5l.94-2.06 2.06-.94-2.06-.94L8.5 2.5l-.94 2.06-2.06.94zm10 10l.94 2.06.94-2.06 2.06-.94-2.06-.94-.94-2.06-.94 2.06-2.06.94z\"/><path d=\"M17.41 7.96l-1.37-1.37c-.4-.4-.92-.59-1.43-.59-.52 0-1.04.2-1.43.59L10.3 9.45l-7.72 7.72c-.78.78-.78 2.05 0 2.83L4 21.41c.39.39.9.59 1.41.59.51 0 1.02-.2 1.41-.59l7.78-7.78 2.81-2.81c.8-.78.8-2.07 0-2.86zM5.41 20L4 18.59l7.72-7.72 1.47 1.35L5.41 20z\"/>\n",
              "  </svg>\n",
              "      </button>\n",
              "      \n",
              "  <style>\n",
              "    .colab-df-container {\n",
              "      display:flex;\n",
              "      flex-wrap:wrap;\n",
              "      gap: 12px;\n",
              "    }\n",
              "\n",
              "    .colab-df-convert {\n",
              "      background-color: #E8F0FE;\n",
              "      border: none;\n",
              "      border-radius: 50%;\n",
              "      cursor: pointer;\n",
              "      display: none;\n",
              "      fill: #1967D2;\n",
              "      height: 32px;\n",
              "      padding: 0 0 0 0;\n",
              "      width: 32px;\n",
              "    }\n",
              "\n",
              "    .colab-df-convert:hover {\n",
              "      background-color: #E2EBFA;\n",
              "      box-shadow: 0px 1px 2px rgba(60, 64, 67, 0.3), 0px 1px 3px 1px rgba(60, 64, 67, 0.15);\n",
              "      fill: #174EA6;\n",
              "    }\n",
              "\n",
              "    [theme=dark] .colab-df-convert {\n",
              "      background-color: #3B4455;\n",
              "      fill: #D2E3FC;\n",
              "    }\n",
              "\n",
              "    [theme=dark] .colab-df-convert:hover {\n",
              "      background-color: #434B5C;\n",
              "      box-shadow: 0px 1px 3px 1px rgba(0, 0, 0, 0.15);\n",
              "      filter: drop-shadow(0px 1px 2px rgba(0, 0, 0, 0.3));\n",
              "      fill: #FFFFFF;\n",
              "    }\n",
              "  </style>\n",
              "\n",
              "      <script>\n",
              "        const buttonEl =\n",
              "          document.querySelector('#df-33a82643-6887-46ca-b822-98d00ac39cb2 button.colab-df-convert');\n",
              "        buttonEl.style.display =\n",
              "          google.colab.kernel.accessAllowed ? 'block' : 'none';\n",
              "\n",
              "        async function convertToInteractive(key) {\n",
              "          const element = document.querySelector('#df-33a82643-6887-46ca-b822-98d00ac39cb2');\n",
              "          const dataTable =\n",
              "            await google.colab.kernel.invokeFunction('convertToInteractive',\n",
              "                                                     [key], {});\n",
              "          if (!dataTable) return;\n",
              "\n",
              "          const docLinkHtml = 'Like what you see? Visit the ' +\n",
              "            '<a target=\"_blank\" href=https://colab.research.google.com/notebooks/data_table.ipynb>data table notebook</a>'\n",
              "            + ' to learn more about interactive tables.';\n",
              "          element.innerHTML = '';\n",
              "          dataTable['output_type'] = 'display_data';\n",
              "          await google.colab.output.renderOutput(dataTable, element);\n",
              "          const docLink = document.createElement('div');\n",
              "          docLink.innerHTML = docLinkHtml;\n",
              "          element.appendChild(docLink);\n",
              "        }\n",
              "      </script>\n",
              "    </div>\n",
              "  </div>\n",
              "  "
            ]
          },
          "metadata": {},
          "execution_count": 4
        }
      ]
    },
    {
      "cell_type": "code",
      "source": [
        "# Utilizamos la librería missingno para el análisis de datos faltantes \n",
        "import missingno as msno\n",
        "# Graficamos los datos faltantes de varias variables, incluidas las de interés. Observamos que hay valores faltantes pero no son muchos\n",
        "msno.bar(X,figsize=(10, 3), sort=\"ascending\",fontsize=12, color='tomato')"
      ],
      "metadata": {
        "colab": {
          "base_uri": "https://localhost:8080/",
          "height": 323
        },
        "id": "6ko62DGG9d7r",
        "outputId": "4721984e-f0b6-46c1-e9c6-a5235c1e0264"
      },
      "execution_count": 5,
      "outputs": [
        {
          "output_type": "execute_result",
          "data": {
            "text/plain": [
              "<matplotlib.axes._subplots.AxesSubplot at 0x7f7123ff9e90>"
            ]
          },
          "metadata": {},
          "execution_count": 5
        },
        {
          "output_type": "display_data",
          "data": {
            "text/plain": [
              "<Figure size 720x216 with 3 Axes>"
            ],
            "image/png": "[encoded data removed]"
          },
          "metadata": {
            "needs_background": "light"
          }
        }
      ]
    },
    {
      "cell_type": "code",
      "source": [
        "# Analizamos si hay una correlación o correspondencia entre los datos faltantes con la siguiente gráfica.\n",
        "# Vemos que no hay correspondencia por lo que la falta de valores no obedece a una misma causa y puede ser aleatoria \n",
        "msno.matrix(X,figsize=(10, 3), fontsize=12, color=[0,0,0.2])"
      ],
      "metadata": {
        "colab": {
          "base_uri": "https://localhost:8080/",
          "height": 294
        },
        "id": "sdODGGaS9kVO",
        "outputId": "de145fb4-b364-44dc-8c90-47acc95565fd"
      },
      "execution_count": 6,
      "outputs": [
        {
          "output_type": "execute_result",
          "data": {
            "text/plain": [
              "<matplotlib.axes._subplots.AxesSubplot at 0x7f71211a8a10>"
            ]
          },
          "metadata": {},
          "execution_count": 6
        },
        {
          "output_type": "display_data",
          "data": {
            "text/plain": [
              "<Figure size 720x216 with 2 Axes>"
            ],
            "image/png": "[encoded data removed]"
          },
          "metadata": {
            "needs_background": "light"
          }
        }
      ]
    },
    {
      "cell_type": "code",
      "source": [
        "#Subdividimos la columna Cabin para poder utilizar sus características como variables independientes\n",
        "X[['Piso','Num', \"Lado\"]] = X.Cabin.str.split('/',expand=True)"
      ],
      "metadata": {
        "id": "ahzN4VJQCMXM"
      },
      "execution_count": 7,
      "outputs": []
    },
    {
      "cell_type": "code",
      "source": [
        "# Evaluamos presencia de outliers en la variable edad y en las de gastos realizados. No se encuentran outliers que impliquen datos erróneos\n",
        "import seaborn as sns\n",
        "plt.figure(figsize=(5,5))\n",
        "sns.boxplot(data=X['Age'])"
      ],
      "metadata": {
        "colab": {
          "base_uri": "https://localhost:8080/",
          "height": 338
        },
        "id": "-HhV9Abi7aHv",
        "outputId": "bb828002-9de8-4ca4-c36e-3ef4dc70ec82"
      },
      "execution_count": 8,
      "outputs": [
        {
          "output_type": "execute_result",
          "data": {
            "text/plain": [
              "<matplotlib.axes._subplots.AxesSubplot at 0x7f7124bd4350>"
            ]
          },
          "metadata": {},
          "execution_count": 8
        },
        {
          "output_type": "display_data",
          "data": {
            "text/plain": [
              "<Figure size 360x360 with 1 Axes>"
            ],
            "image/png": "[encoded data removed]"
          },
          "metadata": {
            "needs_background": "light"
          }
        }
      ]
    },
    {
      "cell_type": "code",
      "source": [
        "sns.boxplot(data=X['RoomService'])"
      ],
      "metadata": {
        "colab": {
          "base_uri": "https://localhost:8080/",
          "height": 283
        },
        "id": "qhD_L27rL5sy",
        "outputId": "a72cbd25-32b7-4652-cfeb-9170856cb03e"
      },
      "execution_count": 9,
      "outputs": [
        {
          "output_type": "execute_result",
          "data": {
            "text/plain": [
              "<matplotlib.axes._subplots.AxesSubplot at 0x7f7124bd0490>"
            ]
          },
          "metadata": {},
          "execution_count": 9
        },
        {
          "output_type": "display_data",
          "data": {
            "text/plain": [
              "<Figure size 432x288 with 1 Axes>"
            ],
            "image/png": "[encoded data removed]"
          },
          "metadata": {
            "needs_background": "light"
          }
        }
      ]
    },
    {
      "cell_type": "code",
      "source": [
        "sns.boxplot(data=X['FoodCourt'])"
      ],
      "metadata": {
        "colab": {
          "base_uri": "https://localhost:8080/",
          "height": 283
        },
        "id": "pviKFlzZL56W",
        "outputId": "653ad217-2000-4305-dfe6-4878fce6558d"
      },
      "execution_count": 10,
      "outputs": [
        {
          "output_type": "execute_result",
          "data": {
            "text/plain": [
              "<matplotlib.axes._subplots.AxesSubplot at 0x7f7120fc1d10>"
            ]
          },
          "metadata": {},
          "execution_count": 10
        },
        {
          "output_type": "display_data",
          "data": {
            "text/plain": [
              "<Figure size 432x288 with 1 Axes>"
            ],
            "image/png": "[encoded data removed]"
          },
          "metadata": {
            "needs_background": "light"
          }
        }
      ]
    },
    {
      "cell_type": "code",
      "source": [
        "sns.boxplot(data=X['ShoppingMall'])"
      ],
      "metadata": {
        "colab": {
          "base_uri": "https://localhost:8080/",
          "height": 283
        },
        "id": "kUt7hh0wL59Z",
        "outputId": "cae488d9-8265-43d0-ed35-210856f3f2e4"
      },
      "execution_count": 11,
      "outputs": [
        {
          "output_type": "execute_result",
          "data": {
            "text/plain": [
              "<matplotlib.axes._subplots.AxesSubplot at 0x7f7120eab0d0>"
            ]
          },
          "metadata": {},
          "execution_count": 11
        },
        {
          "output_type": "display_data",
          "data": {
            "text/plain": [
              "<Figure size 432x288 with 1 Axes>"
            ],
            "image/png": "[encoded data removed]"
          },
          "metadata": {
            "needs_background": "light"
          }
        }
      ]
    },
    {
      "cell_type": "code",
      "source": [
        "sns.boxplot(data=X['Spa'])"
      ],
      "metadata": {
        "colab": {
          "base_uri": "https://localhost:8080/",
          "height": 283
        },
        "id": "yEEcRa9jL6Af",
        "outputId": "465590f9-98f3-425c-ee15-e608d9123f8b"
      },
      "execution_count": 12,
      "outputs": [
        {
          "output_type": "execute_result",
          "data": {
            "text/plain": [
              "<matplotlib.axes._subplots.AxesSubplot at 0x7f7120ea5050>"
            ]
          },
          "metadata": {},
          "execution_count": 12
        },
        {
          "output_type": "display_data",
          "data": {
            "text/plain": [
              "<Figure size 432x288 with 1 Axes>"
            ],
            "image/png": "[encoded data removed]"
          },
          "metadata": {
            "needs_background": "light"
          }
        }
      ]
    },
    {
      "cell_type": "code",
      "source": [
        "sns.boxplot(data=X['VRDeck'])"
      ],
      "metadata": {
        "colab": {
          "base_uri": "https://localhost:8080/",
          "height": 285
        },
        "id": "x24u3bnNL6FJ",
        "outputId": "754c5b17-f948-4f67-ae4f-5f6d4b096b51"
      },
      "execution_count": 13,
      "outputs": [
        {
          "output_type": "execute_result",
          "data": {
            "text/plain": [
              "<matplotlib.axes._subplots.AxesSubplot at 0x7f7120e12050>"
            ]
          },
          "metadata": {},
          "execution_count": 13
        },
        {
          "output_type": "display_data",
          "data": {
            "text/plain": [
              "<Figure size 432x288 with 1 Axes>"
            ],
            "image/png": "[encoded data removed]"
          },
          "metadata": {
            "needs_background": "light"
          }
        }
      ]
    },
    {
      "cell_type": "code",
      "source": [
        "# Convertimos las variables a un dtype conveniente\n",
        "X[[\"HomePlanet\", \"CryoSleep\", \"Destination\", \"VIP\", 'Piso', \"Lado\"]]  = X[[\"HomePlanet\", \"CryoSleep\", \"Destination\", \"VIP\", 'Piso', \"Lado\"]].astype(\"category\")\n",
        "X[[\"Num\"]]  = X[[\"Num\"]].astype(\"float\")\n",
        "X.info()"
      ],
      "metadata": {
        "id": "dNP06e9d3YM_",
        "outputId": "d1207ab1-c20f-40f4-dba7-092128ff8454",
        "colab": {
          "base_uri": "https://localhost:8080/"
        }
      },
      "execution_count": 14,
      "outputs": [
        {
          "output_type": "stream",
          "name": "stdout",
          "text": [
            "<class 'pandas.core.frame.DataFrame'>\n",
            "RangeIndex: 7823 entries, 0 to 7822\n",
            "Data columns (total 16 columns):\n",
            " #   Column        Non-Null Count  Dtype   \n",
            "---  ------        --------------  -----   \n",
            " 0   PassengerId   7823 non-null   int64   \n",
            " 1   HomePlanet    7644 non-null   category\n",
            " 2   CryoSleep     7627 non-null   category\n",
            " 3   Cabin         7639 non-null   object  \n",
            " 4   Destination   7663 non-null   category\n",
            " 5   Age           7661 non-null   float64 \n",
            " 6   VIP           7639 non-null   category\n",
            " 7   RoomService   7669 non-null   float64 \n",
            " 8   FoodCourt     7668 non-null   float64 \n",
            " 9   ShoppingMall  7635 non-null   float64 \n",
            " 10  Spa           7665 non-null   float64 \n",
            " 11  VRDeck        7654 non-null   float64 \n",
            " 12  Name          7639 non-null   object  \n",
            " 13  Piso          7639 non-null   category\n",
            " 14  Num           7639 non-null   float64 \n",
            " 15  Lado          7639 non-null   category\n",
            "dtypes: category(6), float64(7), int64(1), object(2)\n",
            "memory usage: 658.1+ KB\n"
          ]
        }
      ]
    },
    {
      "cell_type": "code",
      "source": [
        "# Dividimos el dataset antes de la imputación y el escalamiento para evitar el data leakage\n",
        "x_train, x_test, y_train, y_test = train_test_split(X, y, train_size=0.8, random_state = 8)"
      ],
      "metadata": {
        "id": "lXboNITX2kSp"
      },
      "execution_count": 15,
      "outputs": []
    },
    {
      "cell_type": "code",
      "source": [
        "y_train.to_csv(\"y_train.csv\", header=True, index=False)\n",
        "y_test.to_csv(\"y_test.csv\", header=True, index=False)"
      ],
      "metadata": {
        "id": "ir7zTUDXdSzQ"
      },
      "execution_count": 33,
      "outputs": []
    },
    {
      "cell_type": "code",
      "source": [
        "# Imputamos valores faltantes en las columnas categóricas y booleanas con el valor más frecuente. TRAIN DATASET\n",
        "imputer = SimpleImputer(strategy=\"most_frequent\")\n",
        "x_train[[\"HomePlanet\", \"Destination\", 'Piso', \"Lado\", \"CryoSleep\", \"VIP\"]] = imputer.fit_transform(x_train[[\"HomePlanet\", \"Destination\", 'Piso', \"Lado\", \"CryoSleep\", \"VIP\"]])\n",
        "x_train.head()"
      ],
      "metadata": {
        "colab": {
          "base_uri": "https://localhost:8080/",
          "height": 206
        },
        "id": "DJ3tgrBc4zMs",
        "outputId": "c6cbbe45-4f58-49c1-c18f-d7c203fee4ea"
      },
      "execution_count": 16,
      "outputs": [
        {
          "output_type": "execute_result",
          "data": {
            "text/plain": [
              "      PassengerId HomePlanet CryoSleep     Cabin    Destination   Age    VIP  \\\n",
              "4320         5890      Earth      True  G/1010/S  PSO J318.5-22  33.0  False   \n",
              "1437         3770      Earth      True       NaN    TRAPPIST-1e  10.0  False   \n",
              "1690         8070      Earth     False  F/1664/S  PSO J318.5-22  49.0  False   \n",
              "3525         4575       Mars     False   F/927/S    TRAPPIST-1e  25.0  False   \n",
              "4700          699      Earth     False       NaN    TRAPPIST-1e  19.0  False   \n",
              "\n",
              "      RoomService  FoodCourt  ShoppingMall    Spa  VRDeck              Name  \\\n",
              "4320          0.0        0.0           0.0    0.0     0.0  Holey Maystuarey   \n",
              "1437          0.0        0.0           0.0    0.0     0.0  Luise Carpennels   \n",
              "1690          0.0       18.0           0.0    0.0   686.0   Enry Johnsondez   \n",
              "3525        750.0        0.0         109.0  368.0     0.0          Teda Ane   \n",
              "4700          0.0      714.0           2.0    0.0     0.0   Jilla Bairdford   \n",
              "\n",
              "     Piso     Num Lado  \n",
              "4320    G  1010.0    S  \n",
              "1437    F     NaN    S  \n",
              "1690    F  1664.0    S  \n",
              "3525    F   927.0    S  \n",
              "4700    F     NaN    S  "
            ],
            "text/html": [
              "\n",
              "  <div id=\"df-955368f3-5519-44ca-801a-ae768ec7c91d\">\n",
              "    <div class=\"colab-df-container\">\n",
              "      <div>\n",
              "<style scoped>\n",
              "    .dataframe tbody tr th:only-of-type {\n",
              "        vertical-align: middle;\n",
              "    }\n",
              "\n",
              "    .dataframe tbody tr th {\n",
              "        vertical-align: top;\n",
              "    }\n",
              "\n",
              "    .dataframe thead th {\n",
              "        text-align: right;\n",
              "    }\n",
              "</style>\n",
              "<table border=\"1\" class=\"dataframe\">\n",
              "  <thead>\n",
              "    <tr style=\"text-align: right;\">\n",
              "      <th></th>\n",
              "      <th>PassengerId</th>\n",
              "      <th>HomePlanet</th>\n",
              "      <th>CryoSleep</th>\n",
              "      <th>Cabin</th>\n",
              "      <th>Destination</th>\n",
              "      <th>Age</th>\n",
              "      <th>VIP</th>\n",
              "      <th>RoomService</th>\n",
              "      <th>FoodCourt</th>\n",
              "      <th>ShoppingMall</th>\n",
              "      <th>Spa</th>\n",
              "      <th>VRDeck</th>\n",
              "      <th>Name</th>\n",
              "      <th>Piso</th>\n",
              "      <th>Num</th>\n",
              "      <th>Lado</th>\n",
              "    </tr>\n",
              "  </thead>\n",
              "  <tbody>\n",
              "    <tr>\n",
              "      <th>4320</th>\n",
              "      <td>5890</td>\n",
              "      <td>Earth</td>\n",
              "      <td>True</td>\n",
              "      <td>G/1010/S</td>\n",
              "      <td>PSO J318.5-22</td>\n",
              "      <td>33.0</td>\n",
              "      <td>False</td>\n",
              "      <td>0.0</td>\n",
              "      <td>0.0</td>\n",
              "      <td>0.0</td>\n",
              "      <td>0.0</td>\n",
              "      <td>0.0</td>\n",
              "      <td>Holey Maystuarey</td>\n",
              "      <td>G</td>\n",
              "      <td>1010.0</td>\n",
              "      <td>S</td>\n",
              "    </tr>\n",
              "    <tr>\n",
              "      <th>1437</th>\n",
              "      <td>3770</td>\n",
              "      <td>Earth</td>\n",
              "      <td>True</td>\n",
              "      <td>NaN</td>\n",
              "      <td>TRAPPIST-1e</td>\n",
              "      <td>10.0</td>\n",
              "      <td>False</td>\n",
              "      <td>0.0</td>\n",
              "      <td>0.0</td>\n",
              "      <td>0.0</td>\n",
              "      <td>0.0</td>\n",
              "      <td>0.0</td>\n",
              "      <td>Luise Carpennels</td>\n",
              "      <td>F</td>\n",
              "      <td>NaN</td>\n",
              "      <td>S</td>\n",
              "    </tr>\n",
              "    <tr>\n",
              "      <th>1690</th>\n",
              "      <td>8070</td>\n",
              "      <td>Earth</td>\n",
              "      <td>False</td>\n",
              "      <td>F/1664/S</td>\n",
              "      <td>PSO J318.5-22</td>\n",
              "      <td>49.0</td>\n",
              "      <td>False</td>\n",
              "      <td>0.0</td>\n",
              "      <td>18.0</td>\n",
              "      <td>0.0</td>\n",
              "      <td>0.0</td>\n",
              "      <td>686.0</td>\n",
              "      <td>Enry Johnsondez</td>\n",
              "      <td>F</td>\n",
              "      <td>1664.0</td>\n",
              "      <td>S</td>\n",
              "    </tr>\n",
              "    <tr>\n",
              "      <th>3525</th>\n",
              "      <td>4575</td>\n",
              "      <td>Mars</td>\n",
              "      <td>False</td>\n",
              "      <td>F/927/S</td>\n",
              "      <td>TRAPPIST-1e</td>\n",
              "      <td>25.0</td>\n",
              "      <td>False</td>\n",
              "      <td>750.0</td>\n",
              "      <td>0.0</td>\n",
              "      <td>109.0</td>\n",
              "      <td>368.0</td>\n",
              "      <td>0.0</td>\n",
              "      <td>Teda Ane</td>\n",
              "      <td>F</td>\n",
              "      <td>927.0</td>\n",
              "      <td>S</td>\n",
              "    </tr>\n",
              "    <tr>\n",
              "      <th>4700</th>\n",
              "      <td>699</td>\n",
              "      <td>Earth</td>\n",
              "      <td>False</td>\n",
              "      <td>NaN</td>\n",
              "      <td>TRAPPIST-1e</td>\n",
              "      <td>19.0</td>\n",
              "      <td>False</td>\n",
              "      <td>0.0</td>\n",
              "      <td>714.0</td>\n",
              "      <td>2.0</td>\n",
              "      <td>0.0</td>\n",
              "      <td>0.0</td>\n",
              "      <td>Jilla Bairdford</td>\n",
              "      <td>F</td>\n",
              "      <td>NaN</td>\n",
              "      <td>S</td>\n",
              "    </tr>\n",
              "  </tbody>\n",
              "</table>\n",
              "</div>\n",
              "      <button class=\"colab-df-convert\" onclick=\"convertToInteractive('df-955368f3-5519-44ca-801a-ae768ec7c91d')\"\n",
              "              title=\"Convert this dataframe to an interactive table.\"\n",
              "              style=\"display:none;\">\n",
              "        \n",
              "  <svg xmlns=\"http://www.w3.org/2000/svg\" height=\"24px\"viewBox=\"0 0 24 24\"\n",
              "       width=\"24px\">\n",
              "    <path d=\"M0 0h24v24H0V0z\" fill=\"none\"/>\n",
              "    <path d=\"M18.56 5.44l.94 2.06.94-2.06 2.06-.94-2.06-.94-.94-2.06-.94 2.06-2.06.94zm-11 1L8.5 8.5l.94-2.06 2.06-.94-2.06-.94L8.5 2.5l-.94 2.06-2.06.94zm10 10l.94 2.06.94-2.06 2.06-.94-2.06-.94-.94-2.06-.94 2.06-2.06.94z\"/><path d=\"M17.41 7.96l-1.37-1.37c-.4-.4-.92-.59-1.43-.59-.52 0-1.04.2-1.43.59L10.3 9.45l-7.72 7.72c-.78.78-.78 2.05 0 2.83L4 21.41c.39.39.9.59 1.41.59.51 0 1.02-.2 1.41-.59l7.78-7.78 2.81-2.81c.8-.78.8-2.07 0-2.86zM5.41 20L4 18.59l7.72-7.72 1.47 1.35L5.41 20z\"/>\n",
              "  </svg>\n",
              "      </button>\n",
              "      \n",
              "  <style>\n",
              "    .colab-df-container {\n",
              "      display:flex;\n",
              "      flex-wrap:wrap;\n",
              "      gap: 12px;\n",
              "    }\n",
              "\n",
              "    .colab-df-convert {\n",
              "      background-color: #E8F0FE;\n",
              "      border: none;\n",
              "      border-radius: 50%;\n",
              "      cursor: pointer;\n",
              "      display: none;\n",
              "      fill: #1967D2;\n",
              "      height: 32px;\n",
              "      padding: 0 0 0 0;\n",
              "      width: 32px;\n",
              "    }\n",
              "\n",
              "    .colab-df-convert:hover {\n",
              "      background-color: #E2EBFA;\n",
              "      box-shadow: 0px 1px 2px rgba(60, 64, 67, 0.3), 0px 1px 3px 1px rgba(60, 64, 67, 0.15);\n",
              "      fill: #174EA6;\n",
              "    }\n",
              "\n",
              "    [theme=dark] .colab-df-convert {\n",
              "      background-color: #3B4455;\n",
              "      fill: #D2E3FC;\n",
              "    }\n",
              "\n",
              "    [theme=dark] .colab-df-convert:hover {\n",
              "      background-color: #434B5C;\n",
              "      box-shadow: 0px 1px 3px 1px rgba(0, 0, 0, 0.15);\n",
              "      filter: drop-shadow(0px 1px 2px rgba(0, 0, 0, 0.3));\n",
              "      fill: #FFFFFF;\n",
              "    }\n",
              "  </style>\n",
              "\n",
              "      <script>\n",
              "        const buttonEl =\n",
              "          document.querySelector('#df-955368f3-5519-44ca-801a-ae768ec7c91d button.colab-df-convert');\n",
              "        buttonEl.style.display =\n",
              "          google.colab.kernel.accessAllowed ? 'block' : 'none';\n",
              "\n",
              "        async function convertToInteractive(key) {\n",
              "          const element = document.querySelector('#df-955368f3-5519-44ca-801a-ae768ec7c91d');\n",
              "          const dataTable =\n",
              "            await google.colab.kernel.invokeFunction('convertToInteractive',\n",
              "                                                     [key], {});\n",
              "          if (!dataTable) return;\n",
              "\n",
              "          const docLinkHtml = 'Like what you see? Visit the ' +\n",
              "            '<a target=\"_blank\" href=https://colab.research.google.com/notebooks/data_table.ipynb>data table notebook</a>'\n",
              "            + ' to learn more about interactive tables.';\n",
              "          element.innerHTML = '';\n",
              "          dataTable['output_type'] = 'display_data';\n",
              "          await google.colab.output.renderOutput(dataTable, element);\n",
              "          const docLink = document.createElement('div');\n",
              "          docLink.innerHTML = docLinkHtml;\n",
              "          element.appendChild(docLink);\n",
              "        }\n",
              "      </script>\n",
              "    </div>\n",
              "  </div>\n",
              "  "
            ]
          },
          "metadata": {},
          "execution_count": 16
        }
      ]
    },
    {
      "cell_type": "code",
      "source": [
        "# Imputamos valores faltantes en las columnas cuantitativas con KNN. TRAIN DATASET\n",
        "Qcols = ['Age', 'RoomService', 'FoodCourt', 'ShoppingMall', 'Spa', 'VRDeck']\n",
        "from sklearn.impute import KNNImputer\n",
        "imputerKNN = KNNImputer()\n",
        "x_train[Qcols] = imputerKNN.fit_transform(x_train[Qcols])"
      ],
      "metadata": {
        "id": "UnYpD1pfA25Q"
      },
      "execution_count": 17,
      "outputs": []
    },
    {
      "cell_type": "code",
      "source": [
        "# Verificamos que no haya valores faltantes en las columnas a utilizar para la predicción\n",
        "interest_cols = [\"HomePlanet\", \"Destination\", 'Piso', \"Lado\", 'Age', 'RoomService', 'FoodCourt', 'ShoppingMall', 'Spa', 'VRDeck', \"CryoSleep\", \"VIP\"]\n",
        "msno.bar(x_train[interest_cols],figsize=(10, 3), sort=\"ascending\",fontsize=12, color='tomato')"
      ],
      "metadata": {
        "colab": {
          "base_uri": "https://localhost:8080/",
          "height": 323
        },
        "id": "7IumAPlzNUhV",
        "outputId": "7d783b74-689e-4184-d13b-40bc1217e7bf"
      },
      "execution_count": 18,
      "outputs": [
        {
          "output_type": "execute_result",
          "data": {
            "text/plain": [
              "<matplotlib.axes._subplots.AxesSubplot at 0x7f7120d8e590>"
            ]
          },
          "metadata": {},
          "execution_count": 18
        },
        {
          "output_type": "display_data",
          "data": {
            "text/plain": [
              "<Figure size 720x216 with 3 Axes>"
            ],
            "image/png": "[encoded data removed]"
          },
          "metadata": {
            "needs_background": "light"
          }
        }
      ]
    },
    {
      "cell_type": "code",
      "source": [
        "x_train.head()"
      ],
      "metadata": {
        "colab": {
          "base_uri": "https://localhost:8080/",
          "height": 206
        },
        "id": "gxh_AwB4GEsZ",
        "outputId": "e02dae29-7a6f-4983-bf48-6c7f91273fa1"
      },
      "execution_count": 19,
      "outputs": [
        {
          "output_type": "execute_result",
          "data": {
            "text/plain": [
              "      PassengerId HomePlanet CryoSleep     Cabin    Destination   Age    VIP  \\\n",
              "4320         5890      Earth      True  G/1010/S  PSO J318.5-22  33.0  False   \n",
              "1437         3770      Earth      True       NaN    TRAPPIST-1e  10.0  False   \n",
              "1690         8070      Earth     False  F/1664/S  PSO J318.5-22  49.0  False   \n",
              "3525         4575       Mars     False   F/927/S    TRAPPIST-1e  25.0  False   \n",
              "4700          699      Earth     False       NaN    TRAPPIST-1e  19.0  False   \n",
              "\n",
              "      RoomService  FoodCourt  ShoppingMall    Spa  VRDeck              Name  \\\n",
              "4320          0.0        0.0           0.0    0.0     0.0  Holey Maystuarey   \n",
              "1437          0.0        0.0           0.0    0.0     0.0  Luise Carpennels   \n",
              "1690          0.0       18.0           0.0    0.0   686.0   Enry Johnsondez   \n",
              "3525        750.0        0.0         109.0  368.0     0.0          Teda Ane   \n",
              "4700          0.0      714.0           2.0    0.0     0.0   Jilla Bairdford   \n",
              "\n",
              "     Piso     Num Lado  \n",
              "4320    G  1010.0    S  \n",
              "1437    F     NaN    S  \n",
              "1690    F  1664.0    S  \n",
              "3525    F   927.0    S  \n",
              "4700    F     NaN    S  "
            ],
            "text/html": [
              "\n",
              "  <div id=\"df-43230d63-1284-4418-aac6-8f7795f76fae\">\n",
              "    <div class=\"colab-df-container\">\n",
              "      <div>\n",
              "<style scoped>\n",
              "    .dataframe tbody tr th:only-of-type {\n",
              "        vertical-align: middle;\n",
              "    }\n",
              "\n",
              "    .dataframe tbody tr th {\n",
              "        vertical-align: top;\n",
              "    }\n",
              "\n",
              "    .dataframe thead th {\n",
              "        text-align: right;\n",
              "    }\n",
              "</style>\n",
              "<table border=\"1\" class=\"dataframe\">\n",
              "  <thead>\n",
              "    <tr style=\"text-align: right;\">\n",
              "      <th></th>\n",
              "      <th>PassengerId</th>\n",
              "      <th>HomePlanet</th>\n",
              "      <th>CryoSleep</th>\n",
              "      <th>Cabin</th>\n",
              "      <th>Destination</th>\n",
              "      <th>Age</th>\n",
              "      <th>VIP</th>\n",
              "      <th>RoomService</th>\n",
              "      <th>FoodCourt</th>\n",
              "      <th>ShoppingMall</th>\n",
              "      <th>Spa</th>\n",
              "      <th>VRDeck</th>\n",
              "      <th>Name</th>\n",
              "      <th>Piso</th>\n",
              "      <th>Num</th>\n",
              "      <th>Lado</th>\n",
              "    </tr>\n",
              "  </thead>\n",
              "  <tbody>\n",
              "    <tr>\n",
              "      <th>4320</th>\n",
              "      <td>5890</td>\n",
              "      <td>Earth</td>\n",
              "      <td>True</td>\n",
              "      <td>G/1010/S</td>\n",
              "      <td>PSO J318.5-22</td>\n",
              "      <td>33.0</td>\n",
              "      <td>False</td>\n",
              "      <td>0.0</td>\n",
              "      <td>0.0</td>\n",
              "      <td>0.0</td>\n",
              "      <td>0.0</td>\n",
              "      <td>0.0</td>\n",
              "      <td>Holey Maystuarey</td>\n",
              "      <td>G</td>\n",
              "      <td>1010.0</td>\n",
              "      <td>S</td>\n",
              "    </tr>\n",
              "    <tr>\n",
              "      <th>1437</th>\n",
              "      <td>3770</td>\n",
              "      <td>Earth</td>\n",
              "      <td>True</td>\n",
              "      <td>NaN</td>\n",
              "      <td>TRAPPIST-1e</td>\n",
              "      <td>10.0</td>\n",
              "      <td>False</td>\n",
              "      <td>0.0</td>\n",
              "      <td>0.0</td>\n",
              "      <td>0.0</td>\n",
              "      <td>0.0</td>\n",
              "      <td>0.0</td>\n",
              "      <td>Luise Carpennels</td>\n",
              "      <td>F</td>\n",
              "      <td>NaN</td>\n",
              "      <td>S</td>\n",
              "    </tr>\n",
              "    <tr>\n",
              "      <th>1690</th>\n",
              "      <td>8070</td>\n",
              "      <td>Earth</td>\n",
              "      <td>False</td>\n",
              "      <td>F/1664/S</td>\n",
              "      <td>PSO J318.5-22</td>\n",
              "      <td>49.0</td>\n",
              "      <td>False</td>\n",
              "      <td>0.0</td>\n",
              "      <td>18.0</td>\n",
              "      <td>0.0</td>\n",
              "      <td>0.0</td>\n",
              "      <td>686.0</td>\n",
              "      <td>Enry Johnsondez</td>\n",
              "      <td>F</td>\n",
              "      <td>1664.0</td>\n",
              "      <td>S</td>\n",
              "    </tr>\n",
              "    <tr>\n",
              "      <th>3525</th>\n",
              "      <td>4575</td>\n",
              "      <td>Mars</td>\n",
              "      <td>False</td>\n",
              "      <td>F/927/S</td>\n",
              "      <td>TRAPPIST-1e</td>\n",
              "      <td>25.0</td>\n",
              "      <td>False</td>\n",
              "      <td>750.0</td>\n",
              "      <td>0.0</td>\n",
              "      <td>109.0</td>\n",
              "      <td>368.0</td>\n",
              "      <td>0.0</td>\n",
              "      <td>Teda Ane</td>\n",
              "      <td>F</td>\n",
              "      <td>927.0</td>\n",
              "      <td>S</td>\n",
              "    </tr>\n",
              "    <tr>\n",
              "      <th>4700</th>\n",
              "      <td>699</td>\n",
              "      <td>Earth</td>\n",
              "      <td>False</td>\n",
              "      <td>NaN</td>\n",
              "      <td>TRAPPIST-1e</td>\n",
              "      <td>19.0</td>\n",
              "      <td>False</td>\n",
              "      <td>0.0</td>\n",
              "      <td>714.0</td>\n",
              "      <td>2.0</td>\n",
              "      <td>0.0</td>\n",
              "      <td>0.0</td>\n",
              "      <td>Jilla Bairdford</td>\n",
              "      <td>F</td>\n",
              "      <td>NaN</td>\n",
              "      <td>S</td>\n",
              "    </tr>\n",
              "  </tbody>\n",
              "</table>\n",
              "</div>\n",
              "      <button class=\"colab-df-convert\" onclick=\"convertToInteractive('df-43230d63-1284-4418-aac6-8f7795f76fae')\"\n",
              "              title=\"Convert this dataframe to an interactive table.\"\n",
              "              style=\"display:none;\">\n",
              "        \n",
              "  <svg xmlns=\"http://www.w3.org/2000/svg\" height=\"24px\"viewBox=\"0 0 24 24\"\n",
              "       width=\"24px\">\n",
              "    <path d=\"M0 0h24v24H0V0z\" fill=\"none\"/>\n",
              "    <path d=\"M18.56 5.44l.94 2.06.94-2.06 2.06-.94-2.06-.94-.94-2.06-.94 2.06-2.06.94zm-11 1L8.5 8.5l.94-2.06 2.06-.94-2.06-.94L8.5 2.5l-.94 2.06-2.06.94zm10 10l.94 2.06.94-2.06 2.06-.94-2.06-.94-.94-2.06-.94 2.06-2.06.94z\"/><path d=\"M17.41 7.96l-1.37-1.37c-.4-.4-.92-.59-1.43-.59-.52 0-1.04.2-1.43.59L10.3 9.45l-7.72 7.72c-.78.78-.78 2.05 0 2.83L4 21.41c.39.39.9.59 1.41.59.51 0 1.02-.2 1.41-.59l7.78-7.78 2.81-2.81c.8-.78.8-2.07 0-2.86zM5.41 20L4 18.59l7.72-7.72 1.47 1.35L5.41 20z\"/>\n",
              "  </svg>\n",
              "      </button>\n",
              "      \n",
              "  <style>\n",
              "    .colab-df-container {\n",
              "      display:flex;\n",
              "      flex-wrap:wrap;\n",
              "      gap: 12px;\n",
              "    }\n",
              "\n",
              "    .colab-df-convert {\n",
              "      background-color: #E8F0FE;\n",
              "      border: none;\n",
              "      border-radius: 50%;\n",
              "      cursor: pointer;\n",
              "      display: none;\n",
              "      fill: #1967D2;\n",
              "      height: 32px;\n",
              "      padding: 0 0 0 0;\n",
              "      width: 32px;\n",
              "    }\n",
              "\n",
              "    .colab-df-convert:hover {\n",
              "      background-color: #E2EBFA;\n",
              "      box-shadow: 0px 1px 2px rgba(60, 64, 67, 0.3), 0px 1px 3px 1px rgba(60, 64, 67, 0.15);\n",
              "      fill: #174EA6;\n",
              "    }\n",
              "\n",
              "    [theme=dark] .colab-df-convert {\n",
              "      background-color: #3B4455;\n",
              "      fill: #D2E3FC;\n",
              "    }\n",
              "\n",
              "    [theme=dark] .colab-df-convert:hover {\n",
              "      background-color: #434B5C;\n",
              "      box-shadow: 0px 1px 3px 1px rgba(0, 0, 0, 0.15);\n",
              "      filter: drop-shadow(0px 1px 2px rgba(0, 0, 0, 0.3));\n",
              "      fill: #FFFFFF;\n",
              "    }\n",
              "  </style>\n",
              "\n",
              "      <script>\n",
              "        const buttonEl =\n",
              "          document.querySelector('#df-43230d63-1284-4418-aac6-8f7795f76fae button.colab-df-convert');\n",
              "        buttonEl.style.display =\n",
              "          google.colab.kernel.accessAllowed ? 'block' : 'none';\n",
              "\n",
              "        async function convertToInteractive(key) {\n",
              "          const element = document.querySelector('#df-43230d63-1284-4418-aac6-8f7795f76fae');\n",
              "          const dataTable =\n",
              "            await google.colab.kernel.invokeFunction('convertToInteractive',\n",
              "                                                     [key], {});\n",
              "          if (!dataTable) return;\n",
              "\n",
              "          const docLinkHtml = 'Like what you see? Visit the ' +\n",
              "            '<a target=\"_blank\" href=https://colab.research.google.com/notebooks/data_table.ipynb>data table notebook</a>'\n",
              "            + ' to learn more about interactive tables.';\n",
              "          element.innerHTML = '';\n",
              "          dataTable['output_type'] = 'display_data';\n",
              "          await google.colab.output.renderOutput(dataTable, element);\n",
              "          const docLink = document.createElement('div');\n",
              "          docLink.innerHTML = docLinkHtml;\n",
              "          element.appendChild(docLink);\n",
              "        }\n",
              "      </script>\n",
              "    </div>\n",
              "  </div>\n",
              "  "
            ]
          },
          "metadata": {},
          "execution_count": 19
        }
      ]
    },
    {
      "cell_type": "code",
      "source": [
        "# Escalamos los datos cuantitativos mediante Robust Scaler para controlar outliers\n",
        "from sklearn import preprocessing\n",
        "escalador = preprocessing.RobustScaler()\n",
        "x_train[['Age', 'RoomService', 'FoodCourt', 'ShoppingMall', 'Spa', 'VRDeck']] = escalador.fit_transform(x_train[['Age', 'RoomService', 'FoodCourt', 'ShoppingMall', 'Spa', 'VRDeck']])\n",
        "x_train.head()"
      ],
      "metadata": {
        "colab": {
          "base_uri": "https://localhost:8080/",
          "height": 302
        },
        "id": "48IxDnf6BzgK",
        "outputId": "7b1ab1af-62c3-470d-d384-890b43a6ed98"
      },
      "execution_count": 20,
      "outputs": [
        {
          "output_type": "execute_result",
          "data": {
            "text/plain": [
              "      PassengerId HomePlanet CryoSleep     Cabin    Destination       Age  \\\n",
              "4320         5890      Earth      True  G/1010/S  PSO J318.5-22  0.333333   \n",
              "1437         3770      Earth      True       NaN    TRAPPIST-1e -0.944444   \n",
              "1690         8070      Earth     False  F/1664/S  PSO J318.5-22  1.222222   \n",
              "3525         4575       Mars     False   F/927/S    TRAPPIST-1e -0.111111   \n",
              "4700          699      Earth     False       NaN    TRAPPIST-1e -0.444444   \n",
              "\n",
              "        VIP  RoomService  FoodCourt  ShoppingMall       Spa     VRDeck  \\\n",
              "4320  False     0.000000   0.000000      0.000000  0.000000   0.000000   \n",
              "1437  False     0.000000   0.000000      0.000000  0.000000   0.000000   \n",
              "1690  False     0.000000   0.264706      0.000000  0.000000  13.192308   \n",
              "3525  False    16.304348   0.000000      3.516129  5.935484   0.000000   \n",
              "4700  False     0.000000  10.500000      0.064516  0.000000   0.000000   \n",
              "\n",
              "                  Name Piso     Num Lado  \n",
              "4320  Holey Maystuarey    G  1010.0    S  \n",
              "1437  Luise Carpennels    F     NaN    S  \n",
              "1690   Enry Johnsondez    F  1664.0    S  \n",
              "3525          Teda Ane    F   927.0    S  \n",
              "4700   Jilla Bairdford    F     NaN    S  "
            ],
            "text/html": [
              "\n",
              "  <div id=\"df-9cda318a-1ce4-44e0-a6d2-3b3534462c28\">\n",
              "    <div class=\"colab-df-container\">\n",
              "      <div>\n",
              "<style scoped>\n",
              "    .dataframe tbody tr th:only-of-type {\n",
              "        vertical-align: middle;\n",
              "    }\n",
              "\n",
              "    .dataframe tbody tr th {\n",
              "        vertical-align: top;\n",
              "    }\n",
              "\n",
              "    .dataframe thead th {\n",
              "        text-align: right;\n",
              "    }\n",
              "</style>\n",
              "<table border=\"1\" class=\"dataframe\">\n",
              "  <thead>\n",
              "    <tr style=\"text-align: right;\">\n",
              "      <th></th>\n",
              "      <th>PassengerId</th>\n",
              "      <th>HomePlanet</th>\n",
              "      <th>CryoSleep</th>\n",
              "      <th>Cabin</th>\n",
              "      <th>Destination</th>\n",
              "      <th>Age</th>\n",
              "      <th>VIP</th>\n",
              "      <th>RoomService</th>\n",
              "      <th>FoodCourt</th>\n",
              "      <th>ShoppingMall</th>\n",
              "      <th>Spa</th>\n",
              "      <th>VRDeck</th>\n",
              "      <th>Name</th>\n",
              "      <th>Piso</th>\n",
              "      <th>Num</th>\n",
              "      <th>Lado</th>\n",
              "    </tr>\n",
              "  </thead>\n",
              "  <tbody>\n",
              "    <tr>\n",
              "      <th>4320</th>\n",
              "      <td>5890</td>\n",
              "      <td>Earth</td>\n",
              "      <td>True</td>\n",
              "      <td>G/1010/S</td>\n",
              "      <td>PSO J318.5-22</td>\n",
              "      <td>0.333333</td>\n",
              "      <td>False</td>\n",
              "      <td>0.000000</td>\n",
              "      <td>0.000000</td>\n",
              "      <td>0.000000</td>\n",
              "      <td>0.000000</td>\n",
              "      <td>0.000000</td>\n",
              "      <td>Holey Maystuarey</td>\n",
              "      <td>G</td>\n",
              "      <td>1010.0</td>\n",
              "      <td>S</td>\n",
              "    </tr>\n",
              "    <tr>\n",
              "      <th>1437</th>\n",
              "      <td>3770</td>\n",
              "      <td>Earth</td>\n",
              "      <td>True</td>\n",
              "      <td>NaN</td>\n",
              "      <td>TRAPPIST-1e</td>\n",
              "      <td>-0.944444</td>\n",
              "      <td>False</td>\n",
              "      <td>0.000000</td>\n",
              "      <td>0.000000</td>\n",
              "      <td>0.000000</td>\n",
              "      <td>0.000000</td>\n",
              "      <td>0.000000</td>\n",
              "      <td>Luise Carpennels</td>\n",
              "      <td>F</td>\n",
              "      <td>NaN</td>\n",
              "      <td>S</td>\n",
              "    </tr>\n",
              "    <tr>\n",
              "      <th>1690</th>\n",
              "      <td>8070</td>\n",
              "      <td>Earth</td>\n",
              "      <td>False</td>\n",
              "      <td>F/1664/S</td>\n",
              "      <td>PSO J318.5-22</td>\n",
              "      <td>1.222222</td>\n",
              "      <td>False</td>\n",
              "      <td>0.000000</td>\n",
              "      <td>0.264706</td>\n",
              "      <td>0.000000</td>\n",
              "      <td>0.000000</td>\n",
              "      <td>13.192308</td>\n",
              "      <td>Enry Johnsondez</td>\n",
              "      <td>F</td>\n",
              "      <td>1664.0</td>\n",
              "      <td>S</td>\n",
              "    </tr>\n",
              "    <tr>\n",
              "      <th>3525</th>\n",
              "      <td>4575</td>\n",
              "      <td>Mars</td>\n",
              "      <td>False</td>\n",
              "      <td>F/927/S</td>\n",
              "      <td>TRAPPIST-1e</td>\n",
              "      <td>-0.111111</td>\n",
              "      <td>False</td>\n",
              "      <td>16.304348</td>\n",
              "      <td>0.000000</td>\n",
              "      <td>3.516129</td>\n",
              "      <td>5.935484</td>\n",
              "      <td>0.000000</td>\n",
              "      <td>Teda Ane</td>\n",
              "      <td>F</td>\n",
              "      <td>927.0</td>\n",
              "      <td>S</td>\n",
              "    </tr>\n",
              "    <tr>\n",
              "      <th>4700</th>\n",
              "      <td>699</td>\n",
              "      <td>Earth</td>\n",
              "      <td>False</td>\n",
              "      <td>NaN</td>\n",
              "      <td>TRAPPIST-1e</td>\n",
              "      <td>-0.444444</td>\n",
              "      <td>False</td>\n",
              "      <td>0.000000</td>\n",
              "      <td>10.500000</td>\n",
              "      <td>0.064516</td>\n",
              "      <td>0.000000</td>\n",
              "      <td>0.000000</td>\n",
              "      <td>Jilla Bairdford</td>\n",
              "      <td>F</td>\n",
              "      <td>NaN</td>\n",
              "      <td>S</td>\n",
              "    </tr>\n",
              "  </tbody>\n",
              "</table>\n",
              "</div>\n",
              "      <button class=\"colab-df-convert\" onclick=\"convertToInteractive('df-9cda318a-1ce4-44e0-a6d2-3b3534462c28')\"\n",
              "              title=\"Convert this dataframe to an interactive table.\"\n",
              "              style=\"display:none;\">\n",
              "        \n",
              "  <svg xmlns=\"http://www.w3.org/2000/svg\" height=\"24px\"viewBox=\"0 0 24 24\"\n",
              "       width=\"24px\">\n",
              "    <path d=\"M0 0h24v24H0V0z\" fill=\"none\"/>\n",
              "    <path d=\"M18.56 5.44l.94 2.06.94-2.06 2.06-.94-2.06-.94-.94-2.06-.94 2.06-2.06.94zm-11 1L8.5 8.5l.94-2.06 2.06-.94-2.06-.94L8.5 2.5l-.94 2.06-2.06.94zm10 10l.94 2.06.94-2.06 2.06-.94-2.06-.94-.94-2.06-.94 2.06-2.06.94z\"/><path d=\"M17.41 7.96l-1.37-1.37c-.4-.4-.92-.59-1.43-.59-.52 0-1.04.2-1.43.59L10.3 9.45l-7.72 7.72c-.78.78-.78 2.05 0 2.83L4 21.41c.39.39.9.59 1.41.59.51 0 1.02-.2 1.41-.59l7.78-7.78 2.81-2.81c.8-.78.8-2.07 0-2.86zM5.41 20L4 18.59l7.72-7.72 1.47 1.35L5.41 20z\"/>\n",
              "  </svg>\n",
              "      </button>\n",
              "      \n",
              "  <style>\n",
              "    .colab-df-container {\n",
              "      display:flex;\n",
              "      flex-wrap:wrap;\n",
              "      gap: 12px;\n",
              "    }\n",
              "\n",
              "    .colab-df-convert {\n",
              "      background-color: #E8F0FE;\n",
              "      border: none;\n",
              "      border-radius: 50%;\n",
              "      cursor: pointer;\n",
              "      display: none;\n",
              "      fill: #1967D2;\n",
              "      height: 32px;\n",
              "      padding: 0 0 0 0;\n",
              "      width: 32px;\n",
              "    }\n",
              "\n",
              "    .colab-df-convert:hover {\n",
              "      background-color: #E2EBFA;\n",
              "      box-shadow: 0px 1px 2px rgba(60, 64, 67, 0.3), 0px 1px 3px 1px rgba(60, 64, 67, 0.15);\n",
              "      fill: #174EA6;\n",
              "    }\n",
              "\n",
              "    [theme=dark] .colab-df-convert {\n",
              "      background-color: #3B4455;\n",
              "      fill: #D2E3FC;\n",
              "    }\n",
              "\n",
              "    [theme=dark] .colab-df-convert:hover {\n",
              "      background-color: #434B5C;\n",
              "      box-shadow: 0px 1px 3px 1px rgba(0, 0, 0, 0.15);\n",
              "      filter: drop-shadow(0px 1px 2px rgba(0, 0, 0, 0.3));\n",
              "      fill: #FFFFFF;\n",
              "    }\n",
              "  </style>\n",
              "\n",
              "      <script>\n",
              "        const buttonEl =\n",
              "          document.querySelector('#df-9cda318a-1ce4-44e0-a6d2-3b3534462c28 button.colab-df-convert');\n",
              "        buttonEl.style.display =\n",
              "          google.colab.kernel.accessAllowed ? 'block' : 'none';\n",
              "\n",
              "        async function convertToInteractive(key) {\n",
              "          const element = document.querySelector('#df-9cda318a-1ce4-44e0-a6d2-3b3534462c28');\n",
              "          const dataTable =\n",
              "            await google.colab.kernel.invokeFunction('convertToInteractive',\n",
              "                                                     [key], {});\n",
              "          if (!dataTable) return;\n",
              "\n",
              "          const docLinkHtml = 'Like what you see? Visit the ' +\n",
              "            '<a target=\"_blank\" href=https://colab.research.google.com/notebooks/data_table.ipynb>data table notebook</a>'\n",
              "            + ' to learn more about interactive tables.';\n",
              "          element.innerHTML = '';\n",
              "          dataTable['output_type'] = 'display_data';\n",
              "          await google.colab.output.renderOutput(dataTable, element);\n",
              "          const docLink = document.createElement('div');\n",
              "          docLink.innerHTML = docLinkHtml;\n",
              "          element.appendChild(docLink);\n",
              "        }\n",
              "      </script>\n",
              "    </div>\n",
              "  </div>\n",
              "  "
            ]
          },
          "metadata": {},
          "execution_count": 20
        }
      ]
    },
    {
      "cell_type": "code",
      "source": [
        "# Revisamos las variables categóricas antes de aplicar la codificación\n",
        "print(x_train[\"HomePlanet\"].value_counts())\n",
        "print(x_train[\"Destination\"].value_counts())\n",
        "print(x_train[\"Piso\"].value_counts())\n",
        "print(x_train[\"Lado\"].value_counts())"
      ],
      "metadata": {
        "colab": {
          "base_uri": "https://localhost:8080/"
        },
        "id": "J3DCHydwCOt-",
        "outputId": "5f2e6219-6955-424d-fa2d-4150154de257"
      },
      "execution_count": 21,
      "outputs": [
        {
          "output_type": "stream",
          "name": "stdout",
          "text": [
            "Earth     3454\n",
            "Europa    1529\n",
            "Mars      1275\n",
            "Name: HomePlanet, dtype: int64\n",
            "TRAPPIST-1e      4352\n",
            "55 Cancri e      1324\n",
            "PSO J318.5-22     582\n",
            "Name: Destination, dtype: int64\n",
            "F    2167\n",
            "G    1829\n",
            "E     636\n",
            "B     549\n",
            "C     535\n",
            "D     355\n",
            "A     183\n",
            "T       4\n",
            "Name: Piso, dtype: int64\n",
            "S    3224\n",
            "P    3034\n",
            "Name: Lado, dtype: int64\n"
          ]
        }
      ]
    },
    {
      "cell_type": "code",
      "source": [
        "# Visualizamos la relación de las variables cuantitativas con el target\n",
        "sns.relplot(y=y_train, x=x_train.Age,height=2, aspect=4)\n",
        "sns.relplot(y=y_train, x=x_train.RoomService,height=2, aspect=4)\n",
        "sns.relplot(y=y_train, x=x_train.FoodCourt,height=2, aspect=4)\n",
        "sns.relplot(y=y_train, x=x_train.ShoppingMall,height=2, aspect=4)\n",
        "sns.relplot(y=y_train, x=x_train.Spa,height=2, aspect=4)\n",
        "sns.relplot(y=y_train, x=x_train.VRDeck,height=2, aspect=4)"
      ],
      "metadata": {
        "colab": {
          "base_uri": "https://localhost:8080/",
          "height": 851
        },
        "id": "iRg22N_3-b0G",
        "outputId": "a3d70d02-2517-46a2-ab93-477353f7b2e0"
      },
      "execution_count": 22,
      "outputs": [
        {
          "output_type": "execute_result",
          "data": {
            "text/plain": [
              "<seaborn.axisgrid.FacetGrid at 0x7f7120b35bd0>"
            ]
          },
          "metadata": {},
          "execution_count": 22
        },
        {
          "output_type": "display_data",
          "data": {
            "text/plain": [
              "<Figure size 576x144 with 1 Axes>"
            ],
            "image/png": "[encoded data removed]"
          },
          "metadata": {
            "needs_background": "light"
          }
        },
        {
          "output_type": "display_data",
          "data": {
            "text/plain": [
              "<Figure size 576x144 with 1 Axes>"
            ],
            "image/png": "[encoded data removed]"
          },
          "metadata": {
            "needs_background": "light"
          }
        },
        {
          "output_type": "display_data",
          "data": {
            "text/plain": [
              "<Figure size 576x144 with 1 Axes>"
            ],
            "image/png": "[encoded data removed]"
          },
          "metadata": {
            "needs_background": "light"
          }
        },
        {
          "output_type": "display_data",
          "data": {
            "text/plain": [
              "<Figure size 576x144 with 1 Axes>"
            ],
            "image/png": "[encoded data removed]"
          },
          "metadata": {
            "needs_background": "light"
          }
        },
        {
          "output_type": "display_data",
          "data": {
            "text/plain": [
              "<Figure size 576x144 with 1 Axes>"
            ],
            "image/png": "[encoded data removed]"
          },
          "metadata": {
            "needs_background": "light"
          }
        },
        {
          "output_type": "display_data",
          "data": {
            "text/plain": [
              "<Figure size 576x144 with 1 Axes>"
            ],
            "image/png": "[encoded data removed]"
          },
          "metadata": {
            "needs_background": "light"
          }
        }
      ]
    },
    {
      "cell_type": "code",
      "source": [
        "# Visualizamos la relación de las variables categóricas y binarias con el target\n",
        "pd.crosstab(x_train.HomePlanet,y_train).plot.bar(stacked=True, figsize=[15,4])\n",
        "pd.crosstab(x_train.CryoSleep,y_train).plot.bar(stacked=True, figsize=[15,4])\n",
        "pd.crosstab(x_train.Destination,y_train).plot.bar(stacked=True, figsize=[15,4])\n",
        "pd.crosstab(x_train.VIP,y_train).plot.bar(stacked=True, figsize=[15,4])\n",
        "pd.crosstab(x_train.Piso,y_train).plot.bar(stacked=True, figsize=[15,4])\n",
        "pd.crosstab(x_train.Lado,y_train).plot.bar(stacked=True, figsize=[15,4])"
      ],
      "metadata": {
        "colab": {
          "base_uri": "https://localhost:8080/",
          "height": 1000
        },
        "id": "afkgtiiAEfbu",
        "outputId": "ceb289bd-88da-4fa8-d12a-2693b9ea5cff"
      },
      "execution_count": 23,
      "outputs": [
        {
          "output_type": "execute_result",
          "data": {
            "text/plain": [
              "<matplotlib.axes._subplots.AxesSubplot at 0x7f7120842950>"
            ]
          },
          "metadata": {},
          "execution_count": 23
        },
        {
          "output_type": "display_data",
          "data": {
            "text/plain": [
              "<Figure size 1080x288 with 1 Axes>"
            ],
            "image/png": "[encoded data removed]"
          },
          "metadata": {
            "needs_background": "light"
          }
        },
        {
          "output_type": "display_data",
          "data": {
            "text/plain": [
              "<Figure size 1080x288 with 1 Axes>"
            ],
            "image/png": "[encoded data removed]"
          },
          "metadata": {
            "needs_background": "light"
          }
        },
        {
          "output_type": "display_data",
          "data": {
            "text/plain": [
              "<Figure size 1080x288 with 1 Axes>"
            ],
            "image/png": "[encoded data removed]"
          },
          "metadata": {
            "needs_background": "light"
          }
        },
        {
          "output_type": "display_data",
          "data": {
            "text/plain": [
              "<Figure size 1080x288 with 1 Axes>"
            ],
            "image/png": "[encoded data removed]"
          },
          "metadata": {
            "needs_background": "light"
          }
        },
        {
          "output_type": "display_data",
          "data": {
            "text/plain": [
              "<Figure size 1080x288 with 1 Axes>"
            ],
            "image/png": "[encoded data removed]"
          },
          "metadata": {
            "needs_background": "light"
          }
        },
        {
          "output_type": "display_data",
          "data": {
            "text/plain": [
              "<Figure size 1080x288 with 1 Axes>"
            ],
            "image/png": "[encoded data removed]"
          },
          "metadata": {
            "needs_background": "light"
          }
        }
      ]
    },
    {
      "cell_type": "code",
      "source": [
        "# Aplicamos hot encoding a las categóricas\n",
        "x_train_hot = pd.get_dummies(data=x_train, columns=[\"HomePlanet\", \"Destination\", 'Piso', \"Lado\"]).drop(columns=['Cabin', 'Num', 'Name'])\n",
        "x_train_hot.head()"
      ],
      "metadata": {
        "colab": {
          "base_uri": "https://localhost:8080/",
          "height": 299
        },
        "id": "ZvzK8arIQodY",
        "outputId": "2df78f17-3f2a-483d-95af-237f153990b0"
      },
      "execution_count": 24,
      "outputs": [
        {
          "output_type": "execute_result",
          "data": {
            "text/plain": [
              "      PassengerId CryoSleep       Age    VIP  RoomService  FoodCourt  \\\n",
              "4320         5890      True  0.333333  False     0.000000   0.000000   \n",
              "1437         3770      True -0.944444  False     0.000000   0.000000   \n",
              "1690         8070     False  1.222222  False     0.000000   0.264706   \n",
              "3525         4575     False -0.111111  False    16.304348   0.000000   \n",
              "4700          699     False -0.444444  False     0.000000  10.500000   \n",
              "\n",
              "      ShoppingMall       Spa     VRDeck  HomePlanet_Earth  ...  Piso_A  \\\n",
              "4320      0.000000  0.000000   0.000000                 1  ...       0   \n",
              "1437      0.000000  0.000000   0.000000                 1  ...       0   \n",
              "1690      0.000000  0.000000  13.192308                 1  ...       0   \n",
              "3525      3.516129  5.935484   0.000000                 0  ...       0   \n",
              "4700      0.064516  0.000000   0.000000                 1  ...       0   \n",
              "\n",
              "      Piso_B  Piso_C  Piso_D  Piso_E  Piso_F  Piso_G  Piso_T  Lado_P  Lado_S  \n",
              "4320       0       0       0       0       0       1       0       0       1  \n",
              "1437       0       0       0       0       1       0       0       0       1  \n",
              "1690       0       0       0       0       1       0       0       0       1  \n",
              "3525       0       0       0       0       1       0       0       0       1  \n",
              "4700       0       0       0       0       1       0       0       0       1  \n",
              "\n",
              "[5 rows x 25 columns]"
            ],
            "text/html": [
              "\n",
              "  <div id=\"df-4ee14462-4305-462d-9922-a45d725801b5\">\n",
              "    <div class=\"colab-df-container\">\n",
              "      <div>\n",
              "<style scoped>\n",
              "    .dataframe tbody tr th:only-of-type {\n",
              "        vertical-align: middle;\n",
              "    }\n",
              "\n",
              "    .dataframe tbody tr th {\n",
              "        vertical-align: top;\n",
              "    }\n",
              "\n",
              "    .dataframe thead th {\n",
              "        text-align: right;\n",
              "    }\n",
              "</style>\n",
              "<table border=\"1\" class=\"dataframe\">\n",
              "  <thead>\n",
              "    <tr style=\"text-align: right;\">\n",
              "      <th></th>\n",
              "      <th>PassengerId</th>\n",
              "      <th>CryoSleep</th>\n",
              "      <th>Age</th>\n",
              "      <th>VIP</th>\n",
              "      <th>RoomService</th>\n",
              "      <th>FoodCourt</th>\n",
              "      <th>ShoppingMall</th>\n",
              "      <th>Spa</th>\n",
              "      <th>VRDeck</th>\n",
              "      <th>HomePlanet_Earth</th>\n",
              "      <th>...</th>\n",
              "      <th>Piso_A</th>\n",
              "      <th>Piso_B</th>\n",
              "      <th>Piso_C</th>\n",
              "      <th>Piso_D</th>\n",
              "      <th>Piso_E</th>\n",
              "      <th>Piso_F</th>\n",
              "      <th>Piso_G</th>\n",
              "      <th>Piso_T</th>\n",
              "      <th>Lado_P</th>\n",
              "      <th>Lado_S</th>\n",
              "    </tr>\n",
              "  </thead>\n",
              "  <tbody>\n",
              "    <tr>\n",
              "      <th>4320</th>\n",
              "      <td>5890</td>\n",
              "      <td>True</td>\n",
              "      <td>0.333333</td>\n",
              "      <td>False</td>\n",
              "      <td>0.000000</td>\n",
              "      <td>0.000000</td>\n",
              "      <td>0.000000</td>\n",
              "      <td>0.000000</td>\n",
              "      <td>0.000000</td>\n",
              "      <td>1</td>\n",
              "      <td>...</td>\n",
              "      <td>0</td>\n",
              "      <td>0</td>\n",
              "      <td>0</td>\n",
              "      <td>0</td>\n",
              "      <td>0</td>\n",
              "      <td>0</td>\n",
              "      <td>1</td>\n",
              "      <td>0</td>\n",
              "      <td>0</td>\n",
              "      <td>1</td>\n",
              "    </tr>\n",
              "    <tr>\n",
              "      <th>1437</th>\n",
              "      <td>3770</td>\n",
              "      <td>True</td>\n",
              "      <td>-0.944444</td>\n",
              "      <td>False</td>\n",
              "      <td>0.000000</td>\n",
              "      <td>0.000000</td>\n",
              "      <td>0.000000</td>\n",
              "      <td>0.000000</td>\n",
              "      <td>0.000000</td>\n",
              "      <td>1</td>\n",
              "      <td>...</td>\n",
              "      <td>0</td>\n",
              "      <td>0</td>\n",
              "      <td>0</td>\n",
              "      <td>0</td>\n",
              "      <td>0</td>\n",
              "      <td>1</td>\n",
              "      <td>0</td>\n",
              "      <td>0</td>\n",
              "      <td>0</td>\n",
              "      <td>1</td>\n",
              "    </tr>\n",
              "    <tr>\n",
              "      <th>1690</th>\n",
              "      <td>8070</td>\n",
              "      <td>False</td>\n",
              "      <td>1.222222</td>\n",
              "      <td>False</td>\n",
              "      <td>0.000000</td>\n",
              "      <td>0.264706</td>\n",
              "      <td>0.000000</td>\n",
              "      <td>0.000000</td>\n",
              "      <td>13.192308</td>\n",
              "      <td>1</td>\n",
              "      <td>...</td>\n",
              "      <td>0</td>\n",
              "      <td>0</td>\n",
              "      <td>0</td>\n",
              "      <td>0</td>\n",
              "      <td>0</td>\n",
              "      <td>1</td>\n",
              "      <td>0</td>\n",
              "      <td>0</td>\n",
              "      <td>0</td>\n",
              "      <td>1</td>\n",
              "    </tr>\n",
              "    <tr>\n",
              "      <th>3525</th>\n",
              "      <td>4575</td>\n",
              "      <td>False</td>\n",
              "      <td>-0.111111</td>\n",
              "      <td>False</td>\n",
              "      <td>16.304348</td>\n",
              "      <td>0.000000</td>\n",
              "      <td>3.516129</td>\n",
              "      <td>5.935484</td>\n",
              "      <td>0.000000</td>\n",
              "      <td>0</td>\n",
              "      <td>...</td>\n",
              "      <td>0</td>\n",
              "      <td>0</td>\n",
              "      <td>0</td>\n",
              "      <td>0</td>\n",
              "      <td>0</td>\n",
              "      <td>1</td>\n",
              "      <td>0</td>\n",
              "      <td>0</td>\n",
              "      <td>0</td>\n",
              "      <td>1</td>\n",
              "    </tr>\n",
              "    <tr>\n",
              "      <th>4700</th>\n",
              "      <td>699</td>\n",
              "      <td>False</td>\n",
              "      <td>-0.444444</td>\n",
              "      <td>False</td>\n",
              "      <td>0.000000</td>\n",
              "      <td>10.500000</td>\n",
              "      <td>0.064516</td>\n",
              "      <td>0.000000</td>\n",
              "      <td>0.000000</td>\n",
              "      <td>1</td>\n",
              "      <td>...</td>\n",
              "      <td>0</td>\n",
              "      <td>0</td>\n",
              "      <td>0</td>\n",
              "      <td>0</td>\n",
              "      <td>0</td>\n",
              "      <td>1</td>\n",
              "      <td>0</td>\n",
              "      <td>0</td>\n",
              "      <td>0</td>\n",
              "      <td>1</td>\n",
              "    </tr>\n",
              "  </tbody>\n",
              "</table>\n",
              "<p>5 rows × 25 columns</p>\n",
              "</div>\n",
              "      <button class=\"colab-df-convert\" onclick=\"convertToInteractive('df-4ee14462-4305-462d-9922-a45d725801b5')\"\n",
              "              title=\"Convert this dataframe to an interactive table.\"\n",
              "              style=\"display:none;\">\n",
              "        \n",
              "  <svg xmlns=\"http://www.w3.org/2000/svg\" height=\"24px\"viewBox=\"0 0 24 24\"\n",
              "       width=\"24px\">\n",
              "    <path d=\"M0 0h24v24H0V0z\" fill=\"none\"/>\n",
              "    <path d=\"M18.56 5.44l.94 2.06.94-2.06 2.06-.94-2.06-.94-.94-2.06-.94 2.06-2.06.94zm-11 1L8.5 8.5l.94-2.06 2.06-.94-2.06-.94L8.5 2.5l-.94 2.06-2.06.94zm10 10l.94 2.06.94-2.06 2.06-.94-2.06-.94-.94-2.06-.94 2.06-2.06.94z\"/><path d=\"M17.41 7.96l-1.37-1.37c-.4-.4-.92-.59-1.43-.59-.52 0-1.04.2-1.43.59L10.3 9.45l-7.72 7.72c-.78.78-.78 2.05 0 2.83L4 21.41c.39.39.9.59 1.41.59.51 0 1.02-.2 1.41-.59l7.78-7.78 2.81-2.81c.8-.78.8-2.07 0-2.86zM5.41 20L4 18.59l7.72-7.72 1.47 1.35L5.41 20z\"/>\n",
              "  </svg>\n",
              "      </button>\n",
              "      \n",
              "  <style>\n",
              "    .colab-df-container {\n",
              "      display:flex;\n",
              "      flex-wrap:wrap;\n",
              "      gap: 12px;\n",
              "    }\n",
              "\n",
              "    .colab-df-convert {\n",
              "      background-color: #E8F0FE;\n",
              "      border: none;\n",
              "      border-radius: 50%;\n",
              "      cursor: pointer;\n",
              "      display: none;\n",
              "      fill: #1967D2;\n",
              "      height: 32px;\n",
              "      padding: 0 0 0 0;\n",
              "      width: 32px;\n",
              "    }\n",
              "\n",
              "    .colab-df-convert:hover {\n",
              "      background-color: #E2EBFA;\n",
              "      box-shadow: 0px 1px 2px rgba(60, 64, 67, 0.3), 0px 1px 3px 1px rgba(60, 64, 67, 0.15);\n",
              "      fill: #174EA6;\n",
              "    }\n",
              "\n",
              "    [theme=dark] .colab-df-convert {\n",
              "      background-color: #3B4455;\n",
              "      fill: #D2E3FC;\n",
              "    }\n",
              "\n",
              "    [theme=dark] .colab-df-convert:hover {\n",
              "      background-color: #434B5C;\n",
              "      box-shadow: 0px 1px 3px 1px rgba(0, 0, 0, 0.15);\n",
              "      filter: drop-shadow(0px 1px 2px rgba(0, 0, 0, 0.3));\n",
              "      fill: #FFFFFF;\n",
              "    }\n",
              "  </style>\n",
              "\n",
              "      <script>\n",
              "        const buttonEl =\n",
              "          document.querySelector('#df-4ee14462-4305-462d-9922-a45d725801b5 button.colab-df-convert');\n",
              "        buttonEl.style.display =\n",
              "          google.colab.kernel.accessAllowed ? 'block' : 'none';\n",
              "\n",
              "        async function convertToInteractive(key) {\n",
              "          const element = document.querySelector('#df-4ee14462-4305-462d-9922-a45d725801b5');\n",
              "          const dataTable =\n",
              "            await google.colab.kernel.invokeFunction('convertToInteractive',\n",
              "                                                     [key], {});\n",
              "          if (!dataTable) return;\n",
              "\n",
              "          const docLinkHtml = 'Like what you see? Visit the ' +\n",
              "            '<a target=\"_blank\" href=https://colab.research.google.com/notebooks/data_table.ipynb>data table notebook</a>'\n",
              "            + ' to learn more about interactive tables.';\n",
              "          element.innerHTML = '';\n",
              "          dataTable['output_type'] = 'display_data';\n",
              "          await google.colab.output.renderOutput(dataTable, element);\n",
              "          const docLink = document.createElement('div');\n",
              "          docLink.innerHTML = docLinkHtml;\n",
              "          element.appendChild(docLink);\n",
              "        }\n",
              "      </script>\n",
              "    </div>\n",
              "  </div>\n",
              "  "
            ]
          },
          "metadata": {},
          "execution_count": 24
        }
      ]
    },
    {
      "cell_type": "code",
      "source": [
        "# Transformaciones sobre el TEST DATASET\n",
        "# Imputamos valores faltantes en las columnas categóricas y booleanas con el valor más frecuente.\n",
        "imputer = SimpleImputer(strategy=\"most_frequent\")\n",
        "x_test[[\"HomePlanet\", \"Destination\", 'Piso', \"Lado\", \"CryoSleep\", \"VIP\"]] = imputer.fit_transform(x_test[[\"HomePlanet\", \"Destination\", 'Piso', \"Lado\", \"CryoSleep\", \"VIP\"]])\n",
        "# Imputamos valores faltantes en las columnas cuantitativas con KNN. \n",
        "Qcols = ['Age', 'RoomService', 'FoodCourt', 'ShoppingMall', 'Spa', 'VRDeck']\n",
        "imputerKNN = KNNImputer()\n",
        "x_test[Qcols] = imputerKNN.fit_transform(x_test[Qcols])\n",
        "\n",
        "# Escalamiento\n",
        "escalador = preprocessing.RobustScaler()\n",
        "x_test[['Age', 'RoomService', 'FoodCourt', 'ShoppingMall', 'Spa', 'VRDeck']] = escalador.fit_transform(x_test[['Age', 'RoomService', 'FoodCourt', 'ShoppingMall', 'Spa', 'VRDeck']])\n",
        "\n",
        "# Hot encoding a las categóricas\n",
        "x_test_hot = pd.get_dummies(data=x_test, columns=[\"HomePlanet\", \"Destination\", 'Piso', \"Lado\"]).drop(columns=['Cabin', 'Num', 'Name'])\n",
        "x_test.shape"
      ],
      "metadata": {
        "id": "-Y5rQu0ECJ5B",
        "colab": {
          "base_uri": "https://localhost:8080/"
        },
        "outputId": "11867e09-59ee-4cf1-e1fd-c009f71ac9b3"
      },
      "execution_count": 25,
      "outputs": [
        {
          "output_type": "execute_result",
          "data": {
            "text/plain": [
              "(1565, 16)"
            ]
          },
          "metadata": {},
          "execution_count": 25
        }
      ]
    },
    {
      "cell_type": "code",
      "source": [
        "# Identifico el ranking de capacidad predictora de las variables independientes en base a SelectKBest\n",
        "from sklearn.feature_selection import SelectKBest\n",
        "from sklearn.feature_selection import chi2, f_regression\n",
        "select = SelectKBest(score_func=f_regression, k=8)\n",
        "z = select.fit_transform(x_train_hot,y_train)\n",
        "print(\"After selecting best 8 features:\", z.shape)\n",
        "\n",
        "filter = select.get_support()\n",
        "features = np.array(x_train_hot.columns)\n",
        " \n",
        "print(\"All features:\")\n",
        "print(features)\n",
        " \n",
        "print(\"Selected best 8:\")\n",
        "print(features[filter])\n",
        "print(z)"
      ],
      "metadata": {
        "colab": {
          "base_uri": "https://localhost:8080/"
        },
        "id": "JEnmq0E-ZZ5s",
        "outputId": "74fb3540-1d34-4e4e-ee0b-157776d4d6a1"
      },
      "execution_count": 26,
      "outputs": [
        {
          "output_type": "stream",
          "name": "stdout",
          "text": [
            "After selecting best 8 features: (6258, 8)\n",
            "All features:\n",
            "['PassengerId' 'CryoSleep' 'Age' 'VIP' 'RoomService' 'FoodCourt'\n",
            " 'ShoppingMall' 'Spa' 'VRDeck' 'HomePlanet_Earth' 'HomePlanet_Europa'\n",
            " 'HomePlanet_Mars' 'Destination_55 Cancri e' 'Destination_PSO J318.5-22'\n",
            " 'Destination_TRAPPIST-1e' 'Piso_A' 'Piso_B' 'Piso_C' 'Piso_D' 'Piso_E'\n",
            " 'Piso_F' 'Piso_G' 'Piso_T' 'Lado_P' 'Lado_S']\n",
            "Selected best 8:\n",
            "['CryoSleep' 'RoomService' 'Spa' 'VRDeck' 'HomePlanet_Earth'\n",
            " 'HomePlanet_Europa' 'Destination_55 Cancri e' 'Piso_B']\n",
            "[[True 0.0 0.0 ... 0 0 0]\n",
            " [True 0.0 0.0 ... 0 0 0]\n",
            " [False 0.0 0.0 ... 0 0 0]\n",
            " ...\n",
            " [False 0.0 18.451612903225808 ... 0 0 0]\n",
            " [True 0.0 0.0 ... 1 1 1]\n",
            " [False 1.673913043478261 58.96774193548387 ... 1 1 1]]\n"
          ]
        }
      ]
    },
    {
      "cell_type": "code",
      "source": [
        "# Realizamos pruebas quitando las variables con menos capacidad predictiva.\n",
        "x_train_4 = x_train_hot[['CryoSleep', 'RoomService', 'Spa', 'VRDeck']]\n",
        "x_test_4 = x_test_hot[['CryoSleep', 'RoomService', 'Spa', 'VRDeck']]\n",
        "\n",
        "x_train_2 = x_train_hot[['CryoSleep', 'RoomService']]\n",
        "x_test_2 = x_test_hot[['CryoSleep', 'RoomService']]\n",
        "\n",
        "x_train_8 = x_train_hot[['CryoSleep', 'RoomService', 'Spa', 'VRDeck', 'HomePlanet_Earth','HomePlanet_Europa','Destination_55 Cancri e','Piso_B']]\n",
        "x_test_8 = x_test_hot[['CryoSleep', 'RoomService', 'Spa', 'VRDeck', 'HomePlanet_Earth','HomePlanet_Europa','Destination_55 Cancri e','Piso_B']]"
      ],
      "metadata": {
        "id": "88vWr8X3dffV"
      },
      "execution_count": 27,
      "outputs": []
    },
    {
      "cell_type": "code",
      "source": [
        "# Analizamos e identificamos correlación de variables\n",
        "plt.figure(figsize = (20,10))\n",
        "sns.set(font_scale=1)\n",
        "sns.heatmap(x_train_hot.corr(), annot = True, cmap = 'coolwarm', fmt=\".2f\")"
      ],
      "metadata": {
        "colab": {
          "base_uri": "https://localhost:8080/",
          "height": 753
        },
        "id": "p8Fy-ZubkpVh",
        "outputId": "84f15e51-9fef-412a-bbbd-72b422476f62"
      },
      "execution_count": 28,
      "outputs": [
        {
          "output_type": "execute_result",
          "data": {
            "text/plain": [
              "<matplotlib.axes._subplots.AxesSubplot at 0x7f712066bd50>"
            ]
          },
          "metadata": {},
          "execution_count": 28
        },
        {
          "output_type": "display_data",
          "data": {
            "text/plain": [
              "<Figure size 1440x720 with 2 Axes>"
            ],
            "image/png": "[encoded data removed]"
          },
          "metadata": {
            "needs_background": "light"
          }
        }
      ]
    },
    {
      "cell_type": "code",
      "source": [
        "# Realizamos pruebas quitando las variables más correlacionadas ('Lado_S'y 'Destination_TRAPPIST-1e')\n",
        "x_train_corr = x_train_hot.drop(columns=['Lado_S'])\n",
        "x_test_corr = x_test_hot.drop(columns=['Lado_S'])"
      ],
      "metadata": {
        "id": "KBtkL5ZoqSv6"
      },
      "execution_count": 29,
      "outputs": []
    },
    {
      "cell_type": "markdown",
      "metadata": {
        "id": "Xbb-CUA_uXSM"
      },
      "source": [
        "### Planteo modelos\n",
        "Tienen que elegir los 2 mejores modelos así que prueben con varios."
      ]
    },
    {
      "cell_type": "markdown",
      "source": [
        "Selección Multimodelos en base a https://blog.escueladedatosvivos.ai/como-hacer-optimizacion-parametros-python/"
      ],
      "metadata": {
        "id": "vStPu426BWbN"
      }
    },
    {
      "cell_type": "code",
      "source": [
        "import os\n",
        "import numpy as np  # linear algebra\n",
        "import pandas as pd  #\n",
        "from datetime import datetime\n",
        "from sklearn.model_selection import train_test_split\n",
        "from sklearn.linear_model import SGDClassifier\n",
        "from sklearn.linear_model import RidgeClassifier\n",
        "from sklearn.neighbors import KNeighborsClassifier\n",
        "from sklearn.svm import SVC\n",
        "from sklearn.ensemble import BaggingClassifier\n",
        "from sklearn.ensemble import RandomForestClassifier\n",
        "from sklearn.linear_model import LogisticRegression\n",
        "import lightgbm as lgb\n",
        "from sklearn.metrics import confusion_matrix"
      ],
      "metadata": {
        "id": "wYkXErH8BgyL"
      },
      "execution_count": 30,
      "outputs": []
    },
    {
      "cell_type": "code",
      "source": [
        "#Dataframe de resultados\n",
        "cols = ['Case','SGD','Ridge','KNN','SVM','Bagging','RndForest','LogReg','LGB']\n",
        "\n",
        "resul = pd.DataFrame(columns=cols)\n",
        "resul.set_index(\"Case\",inplace=True)\n",
        "resul.loc['Standard'] = [0,0,0,0,0,0,0,0]\n",
        "resul.loc['GridSearch'] = [0,0,0,0,0,0,0,0]\n",
        "resul.loc['RandomSearch'] = [0,0,0,0,0,0,0,0]\n",
        "resul.head()"
      ],
      "metadata": {
        "colab": {
          "base_uri": "https://localhost:8080/",
          "height": 175
        },
        "id": "2Ed6flVwA4fl",
        "outputId": "2fe488e1-f99e-49a9-8e07-4135d5e1541a"
      },
      "execution_count": 31,
      "outputs": [
        {
          "output_type": "execute_result",
          "data": {
            "text/plain": [
              "             SGD Ridge KNN SVM Bagging RndForest LogReg LGB\n",
              "Case                                                       \n",
              "Standard       0     0   0   0       0         0      0   0\n",
              "GridSearch     0     0   0   0       0         0      0   0\n",
              "RandomSearch   0     0   0   0       0         0      0   0"
            ],
            "text/html": [
              "\n",
              "  <div id=\"df-41a3b329-9a62-4c3a-96eb-5197f6d019da\">\n",
              "    <div class=\"colab-df-container\">\n",
              "      <div>\n",
              "<style scoped>\n",
              "    .dataframe tbody tr th:only-of-type {\n",
              "        vertical-align: middle;\n",
              "    }\n",
              "\n",
              "    .dataframe tbody tr th {\n",
              "        vertical-align: top;\n",
              "    }\n",
              "\n",
              "    .dataframe thead th {\n",
              "        text-align: right;\n",
              "    }\n",
              "</style>\n",
              "<table border=\"1\" class=\"dataframe\">\n",
              "  <thead>\n",
              "    <tr style=\"text-align: right;\">\n",
              "      <th></th>\n",
              "      <th>SGD</th>\n",
              "      <th>Ridge</th>\n",
              "      <th>KNN</th>\n",
              "      <th>SVM</th>\n",
              "      <th>Bagging</th>\n",
              "      <th>RndForest</th>\n",
              "      <th>LogReg</th>\n",
              "      <th>LGB</th>\n",
              "    </tr>\n",
              "    <tr>\n",
              "      <th>Case</th>\n",
              "      <th></th>\n",
              "      <th></th>\n",
              "      <th></th>\n",
              "      <th></th>\n",
              "      <th></th>\n",
              "      <th></th>\n",
              "      <th></th>\n",
              "      <th></th>\n",
              "    </tr>\n",
              "  </thead>\n",
              "  <tbody>\n",
              "    <tr>\n",
              "      <th>Standard</th>\n",
              "      <td>0</td>\n",
              "      <td>0</td>\n",
              "      <td>0</td>\n",
              "      <td>0</td>\n",
              "      <td>0</td>\n",
              "      <td>0</td>\n",
              "      <td>0</td>\n",
              "      <td>0</td>\n",
              "    </tr>\n",
              "    <tr>\n",
              "      <th>GridSearch</th>\n",
              "      <td>0</td>\n",
              "      <td>0</td>\n",
              "      <td>0</td>\n",
              "      <td>0</td>\n",
              "      <td>0</td>\n",
              "      <td>0</td>\n",
              "      <td>0</td>\n",
              "      <td>0</td>\n",
              "    </tr>\n",
              "    <tr>\n",
              "      <th>RandomSearch</th>\n",
              "      <td>0</td>\n",
              "      <td>0</td>\n",
              "      <td>0</td>\n",
              "      <td>0</td>\n",
              "      <td>0</td>\n",
              "      <td>0</td>\n",
              "      <td>0</td>\n",
              "      <td>0</td>\n",
              "    </tr>\n",
              "  </tbody>\n",
              "</table>\n",
              "</div>\n",
              "      <button class=\"colab-df-convert\" onclick=\"convertToInteractive('df-41a3b329-9a62-4c3a-96eb-5197f6d019da')\"\n",
              "              title=\"Convert this dataframe to an interactive table.\"\n",
              "              style=\"display:none;\">\n",
              "        \n",
              "  <svg xmlns=\"http://www.w3.org/2000/svg\" height=\"24px\"viewBox=\"0 0 24 24\"\n",
              "       width=\"24px\">\n",
              "    <path d=\"M0 0h24v24H0V0z\" fill=\"none\"/>\n",
              "    <path d=\"M18.56 5.44l.94 2.06.94-2.06 2.06-.94-2.06-.94-.94-2.06-.94 2.06-2.06.94zm-11 1L8.5 8.5l.94-2.06 2.06-.94-2.06-.94L8.5 2.5l-.94 2.06-2.06.94zm10 10l.94 2.06.94-2.06 2.06-.94-2.06-.94-.94-2.06-.94 2.06-2.06.94z\"/><path d=\"M17.41 7.96l-1.37-1.37c-.4-.4-.92-.59-1.43-.59-.52 0-1.04.2-1.43.59L10.3 9.45l-7.72 7.72c-.78.78-.78 2.05 0 2.83L4 21.41c.39.39.9.59 1.41.59.51 0 1.02-.2 1.41-.59l7.78-7.78 2.81-2.81c.8-.78.8-2.07 0-2.86zM5.41 20L4 18.59l7.72-7.72 1.47 1.35L5.41 20z\"/>\n",
              "  </svg>\n",
              "      </button>\n",
              "      \n",
              "  <style>\n",
              "    .colab-df-container {\n",
              "      display:flex;\n",
              "      flex-wrap:wrap;\n",
              "      gap: 12px;\n",
              "    }\n",
              "\n",
              "    .colab-df-convert {\n",
              "      background-color: #E8F0FE;\n",
              "      border: none;\n",
              "      border-radius: 50%;\n",
              "      cursor: pointer;\n",
              "      display: none;\n",
              "      fill: #1967D2;\n",
              "      height: 32px;\n",
              "      padding: 0 0 0 0;\n",
              "      width: 32px;\n",
              "    }\n",
              "\n",
              "    .colab-df-convert:hover {\n",
              "      background-color: #E2EBFA;\n",
              "      box-shadow: 0px 1px 2px rgba(60, 64, 67, 0.3), 0px 1px 3px 1px rgba(60, 64, 67, 0.15);\n",
              "      fill: #174EA6;\n",
              "    }\n",
              "\n",
              "    [theme=dark] .colab-df-convert {\n",
              "      background-color: #3B4455;\n",
              "      fill: #D2E3FC;\n",
              "    }\n",
              "\n",
              "    [theme=dark] .colab-df-convert:hover {\n",
              "      background-color: #434B5C;\n",
              "      box-shadow: 0px 1px 3px 1px rgba(0, 0, 0, 0.15);\n",
              "      filter: drop-shadow(0px 1px 2px rgba(0, 0, 0, 0.3));\n",
              "      fill: #FFFFFF;\n",
              "    }\n",
              "  </style>\n",
              "\n",
              "      <script>\n",
              "        const buttonEl =\n",
              "          document.querySelector('#df-41a3b329-9a62-4c3a-96eb-5197f6d019da button.colab-df-convert');\n",
              "        buttonEl.style.display =\n",
              "          google.colab.kernel.accessAllowed ? 'block' : 'none';\n",
              "\n",
              "        async function convertToInteractive(key) {\n",
              "          const element = document.querySelector('#df-41a3b329-9a62-4c3a-96eb-5197f6d019da');\n",
              "          const dataTable =\n",
              "            await google.colab.kernel.invokeFunction('convertToInteractive',\n",
              "                                                     [key], {});\n",
              "          if (!dataTable) return;\n",
              "\n",
              "          const docLinkHtml = 'Like what you see? Visit the ' +\n",
              "            '<a target=\"_blank\" href=https://colab.research.google.com/notebooks/data_table.ipynb>data table notebook</a>'\n",
              "            + ' to learn more about interactive tables.';\n",
              "          element.innerHTML = '';\n",
              "          dataTable['output_type'] = 'display_data';\n",
              "          await google.colab.output.renderOutput(dataTable, element);\n",
              "          const docLink = document.createElement('div');\n",
              "          docLink.innerHTML = docLinkHtml;\n",
              "          element.appendChild(docLink);\n",
              "        }\n",
              "      </script>\n",
              "    </div>\n",
              "  </div>\n",
              "  "
            ]
          },
          "metadata": {},
          "execution_count": 31
        }
      ]
    },
    {
      "cell_type": "code",
      "source": [
        "# Acondicionamiento de detalles en ambos datasets por requerimientos de los siguientes métodos a utilizar\n",
        "x_train_hot = x_train_hot.drop(columns=['Piso_T']) #Tuve que eliminar esta columna porque estaba ausente en el conjunto de test\n",
        "print(x_train_hot.shape)\n",
        "print(x_test_hot.shape)\n",
        "x_train_hot[[\"CryoSleep\", \"VIP\"]] = x_train_hot[[\"CryoSleep\", \"VIP\"]].astype(\"float64\")\n",
        "x_test_hot[[\"CryoSleep\", \"VIP\"]] = x_test_hot[[\"CryoSleep\", \"VIP\"]].astype(\"float64\")\n",
        "x_train_hot.to_csv(\"x_train_hot.csv\", header=True, index=False)\n",
        "x_test_hot.to_csv(\"x_test_hot.csv\", header=True, index=False)"
      ],
      "metadata": {
        "colab": {
          "base_uri": "https://localhost:8080/"
        },
        "id": "xCvN8POhE8B4",
        "outputId": "6da3f297-d075-4438-da1d-428b47fccc2e"
      },
      "execution_count": 32,
      "outputs": [
        {
          "output_type": "stream",
          "name": "stdout",
          "text": [
            "(6258, 24)\n",
            "(1565, 24)\n"
          ]
        }
      ]
    },
    {
      "cell_type": "code",
      "source": [
        "BestCaro = lgb.LGBMClassifier(random_state=22,n_estimators=697, boosting_type='gbdt',\n",
        "        learning_rate=0.01, num_leaves = 32)\n",
        "                     \n",
        "BestCaro.fit(x_train_hot, y_train)\n",
        "print(\"Train dataset accuracy: %0.03f\" % BestCaro.score(x_train_hot,y_train))\n",
        "print(\"Test dataset accuracy: %0.03f\" % BestCaro.score(x_test_hot,y_test))"
      ],
      "metadata": {
        "colab": {
          "base_uri": "https://localhost:8080/"
        },
        "id": "d4w5OephrPkn",
        "outputId": "01fff9a1-e3ab-4589-f8f1-734e1ad27c98"
      },
      "execution_count": 31,
      "outputs": [
        {
          "output_type": "stream",
          "name": "stdout",
          "text": [
            "Train dataset accuracy: 0.871\n",
            "Test dataset accuracy: 0.824\n"
          ]
        }
      ]
    },
    {
      "cell_type": "code",
      "source": [
        "from sklearn.ensemble import ExtraTreesClassifier\n",
        "etc1 = ExtraTreesClassifier(criterion='entropy', max_features=12,\n",
        "                     min_samples_leaf=1,min_samples_split=187, n_estimators=20, n_jobs=4,\n",
        "                     random_state=22)\n",
        "etc1.fit(x_train_corr, y_train)\n",
        "print(\"Train dataset accuracy: %0.03f\" % etc1.score(x_train_corr,y_train))\n",
        "print(\"Test dataset accuracy: %0.03f\" % etc1.score(x_test_corr,y_test))"
      ],
      "metadata": {
        "colab": {
          "base_uri": "https://localhost:8080/"
        },
        "id": "JZSXYtR1tL5k",
        "outputId": "0d9ca84d-e8a8-4832-8801-bb5cc5c694df"
      },
      "execution_count": 43,
      "outputs": [
        {
          "output_type": "stream",
          "name": "stdout",
          "text": [
            "Train dataset accuracy: 0.811\n",
            "Test dataset accuracy: 0.797\n"
          ]
        }
      ]
    },
    {
      "cell_type": "code",
      "source": [
        "#Creación de Modelos\n",
        "sgd   = SGDClassifier()\n",
        "ridge = RidgeClassifier()\n",
        "knn   = KNeighborsClassifier()\n",
        "svc   = SVC(gamma='auto')\n",
        "bag   = BaggingClassifier()\n",
        "rf    = RandomForestClassifier(n_estimators=10)\n",
        "lr    =  LogisticRegression(solver='liblinear')\n",
        "lgg   = lgb.LGBMClassifier()\n",
        "\n",
        "models = [sgd,ridge,knn,svc,bag,rf,lr,lgg]\n",
        "\n",
        "col = 0\n",
        "for model in models:\n",
        "    model.fit(x_train_4,y_train.values.ravel())\n",
        "    resul.iloc[0,col] = model.score(x_test_4,y_test)\n",
        "    col += 1\n",
        "\n",
        "resul.head()"
      ],
      "metadata": {
        "colab": {
          "base_uri": "https://localhost:8080/",
          "height": 175
        },
        "id": "QGv0nsAgA5iu",
        "outputId": "5466f058-b224-4222-882b-0e53297ab58e"
      },
      "execution_count": 42,
      "outputs": [
        {
          "output_type": "execute_result",
          "data": {
            "text/plain": [
              "                   SGD     Ridge       KNN       SVM   Bagging RndForest  \\\n",
              "Case                                                                       \n",
              "Standard      0.522045  0.716294  0.761661  0.771885  0.732268  0.739297   \n",
              "GridSearch           0         0         0         0         0         0   \n",
              "RandomSearch         0         0         0         0         0         0   \n",
              "\n",
              "                LogReg       LGB  \n",
              "Case                              \n",
              "Standard      0.776997  0.762939  \n",
              "GridSearch           0         0  \n",
              "RandomSearch         0         0  "
            ],
            "text/html": [
              "\n",
              "  <div id=\"df-d3f7e2e0-894f-41c7-a914-65f180433b3c\">\n",
              "    <div class=\"colab-df-container\">\n",
              "      <div>\n",
              "<style scoped>\n",
              "    .dataframe tbody tr th:only-of-type {\n",
              "        vertical-align: middle;\n",
              "    }\n",
              "\n",
              "    .dataframe tbody tr th {\n",
              "        vertical-align: top;\n",
              "    }\n",
              "\n",
              "    .dataframe thead th {\n",
              "        text-align: right;\n",
              "    }\n",
              "</style>\n",
              "<table border=\"1\" class=\"dataframe\">\n",
              "  <thead>\n",
              "    <tr style=\"text-align: right;\">\n",
              "      <th></th>\n",
              "      <th>SGD</th>\n",
              "      <th>Ridge</th>\n",
              "      <th>KNN</th>\n",
              "      <th>SVM</th>\n",
              "      <th>Bagging</th>\n",
              "      <th>RndForest</th>\n",
              "      <th>LogReg</th>\n",
              "      <th>LGB</th>\n",
              "    </tr>\n",
              "    <tr>\n",
              "      <th>Case</th>\n",
              "      <th></th>\n",
              "      <th></th>\n",
              "      <th></th>\n",
              "      <th></th>\n",
              "      <th></th>\n",
              "      <th></th>\n",
              "      <th></th>\n",
              "      <th></th>\n",
              "    </tr>\n",
              "  </thead>\n",
              "  <tbody>\n",
              "    <tr>\n",
              "      <th>Standard</th>\n",
              "      <td>0.522045</td>\n",
              "      <td>0.716294</td>\n",
              "      <td>0.761661</td>\n",
              "      <td>0.771885</td>\n",
              "      <td>0.732268</td>\n",
              "      <td>0.739297</td>\n",
              "      <td>0.776997</td>\n",
              "      <td>0.762939</td>\n",
              "    </tr>\n",
              "    <tr>\n",
              "      <th>GridSearch</th>\n",
              "      <td>0</td>\n",
              "      <td>0</td>\n",
              "      <td>0</td>\n",
              "      <td>0</td>\n",
              "      <td>0</td>\n",
              "      <td>0</td>\n",
              "      <td>0</td>\n",
              "      <td>0</td>\n",
              "    </tr>\n",
              "    <tr>\n",
              "      <th>RandomSearch</th>\n",
              "      <td>0</td>\n",
              "      <td>0</td>\n",
              "      <td>0</td>\n",
              "      <td>0</td>\n",
              "      <td>0</td>\n",
              "      <td>0</td>\n",
              "      <td>0</td>\n",
              "      <td>0</td>\n",
              "    </tr>\n",
              "  </tbody>\n",
              "</table>\n",
              "</div>\n",
              "      <button class=\"colab-df-convert\" onclick=\"convertToInteractive('df-d3f7e2e0-894f-41c7-a914-65f180433b3c')\"\n",
              "              title=\"Convert this dataframe to an interactive table.\"\n",
              "              style=\"display:none;\">\n",
              "        \n",
              "  <svg xmlns=\"http://www.w3.org/2000/svg\" height=\"24px\"viewBox=\"0 0 24 24\"\n",
              "       width=\"24px\">\n",
              "    <path d=\"M0 0h24v24H0V0z\" fill=\"none\"/>\n",
              "    <path d=\"M18.56 5.44l.94 2.06.94-2.06 2.06-.94-2.06-.94-.94-2.06-.94 2.06-2.06.94zm-11 1L8.5 8.5l.94-2.06 2.06-.94-2.06-.94L8.5 2.5l-.94 2.06-2.06.94zm10 10l.94 2.06.94-2.06 2.06-.94-2.06-.94-.94-2.06-.94 2.06-2.06.94z\"/><path d=\"M17.41 7.96l-1.37-1.37c-.4-.4-.92-.59-1.43-.59-.52 0-1.04.2-1.43.59L10.3 9.45l-7.72 7.72c-.78.78-.78 2.05 0 2.83L4 21.41c.39.39.9.59 1.41.59.51 0 1.02-.2 1.41-.59l7.78-7.78 2.81-2.81c.8-.78.8-2.07 0-2.86zM5.41 20L4 18.59l7.72-7.72 1.47 1.35L5.41 20z\"/>\n",
              "  </svg>\n",
              "      </button>\n",
              "      \n",
              "  <style>\n",
              "    .colab-df-container {\n",
              "      display:flex;\n",
              "      flex-wrap:wrap;\n",
              "      gap: 12px;\n",
              "    }\n",
              "\n",
              "    .colab-df-convert {\n",
              "      background-color: #E8F0FE;\n",
              "      border: none;\n",
              "      border-radius: 50%;\n",
              "      cursor: pointer;\n",
              "      display: none;\n",
              "      fill: #1967D2;\n",
              "      height: 32px;\n",
              "      padding: 0 0 0 0;\n",
              "      width: 32px;\n",
              "    }\n",
              "\n",
              "    .colab-df-convert:hover {\n",
              "      background-color: #E2EBFA;\n",
              "      box-shadow: 0px 1px 2px rgba(60, 64, 67, 0.3), 0px 1px 3px 1px rgba(60, 64, 67, 0.15);\n",
              "      fill: #174EA6;\n",
              "    }\n",
              "\n",
              "    [theme=dark] .colab-df-convert {\n",
              "      background-color: #3B4455;\n",
              "      fill: #D2E3FC;\n",
              "    }\n",
              "\n",
              "    [theme=dark] .colab-df-convert:hover {\n",
              "      background-color: #434B5C;\n",
              "      box-shadow: 0px 1px 3px 1px rgba(0, 0, 0, 0.15);\n",
              "      filter: drop-shadow(0px 1px 2px rgba(0, 0, 0, 0.3));\n",
              "      fill: #FFFFFF;\n",
              "    }\n",
              "  </style>\n",
              "\n",
              "      <script>\n",
              "        const buttonEl =\n",
              "          document.querySelector('#df-d3f7e2e0-894f-41c7-a914-65f180433b3c button.colab-df-convert');\n",
              "        buttonEl.style.display =\n",
              "          google.colab.kernel.accessAllowed ? 'block' : 'none';\n",
              "\n",
              "        async function convertToInteractive(key) {\n",
              "          const element = document.querySelector('#df-d3f7e2e0-894f-41c7-a914-65f180433b3c');\n",
              "          const dataTable =\n",
              "            await google.colab.kernel.invokeFunction('convertToInteractive',\n",
              "                                                     [key], {});\n",
              "          if (!dataTable) return;\n",
              "\n",
              "          const docLinkHtml = 'Like what you see? Visit the ' +\n",
              "            '<a target=\"_blank\" href=https://colab.research.google.com/notebooks/data_table.ipynb>data table notebook</a>'\n",
              "            + ' to learn more about interactive tables.';\n",
              "          element.innerHTML = '';\n",
              "          dataTable['output_type'] = 'display_data';\n",
              "          await google.colab.output.renderOutput(dataTable, element);\n",
              "          const docLink = document.createElement('div');\n",
              "          docLink.innerHTML = docLinkHtml;\n",
              "          element.appendChild(docLink);\n",
              "        }\n",
              "      </script>\n",
              "    </div>\n",
              "  </div>\n",
              "  "
            ]
          },
          "metadata": {},
          "execution_count": 42
        }
      ]
    },
    {
      "cell_type": "code",
      "source": [
        "# Definición de grillas de hiperparámetros para la aplicación de RandomSearch y GridSearch\n",
        "from sklearn.model_selection import GridSearchCV\n",
        "from sklearn.model_selection import RepeatedStratifiedKFold\n",
        "\n",
        "#SGD\n",
        "loss = ['hinge', 'modified_huber', 'log']\n",
        "penalty = ['l1','l2']\n",
        "alpha= [0.0001,0.01,0.1]\n",
        "l1_ratio= [0.15,0.05,.025]\n",
        "max_iter = [100,1000,10000]\n",
        "sgd_grid = dict(loss=loss,penalty=penalty,max_iter=max_iter,alpha=alpha,l1_ratio=l1_ratio)\n",
        "\n",
        "#Ridge\n",
        "alpha = [0.1, 0.5, 1.0]\n",
        "ridge_grid = dict(alpha=alpha)\n",
        "\n",
        "#K-Nearest - Neighborg\n",
        "n_neighbors = range(1, 21, 2)\n",
        "weights = ['uniform', 'distance']\n",
        "metric = ['euclidean', 'manhattan', 'minkowski']\n",
        "knn_grid = dict(n_neighbors=n_neighbors,weights=weights,metric=metric)\n",
        "\n",
        "#Support Vector Classifier\n",
        "kernel = ['poly', 'rbf', 'sigmoid']\n",
        "C = [50, 1.0, 0.01]\n",
        "gamma = ['scale']\n",
        "svc_grid = dict(kernel=kernel,C=C,gamma=gamma)\n",
        "\n",
        "#Bagging Classifier\n",
        "n_estimators = [10, 100, 1000]\n",
        "bag_grid = dict(n_estimators=n_estimators)\n",
        "\n",
        "#Random Forest\n",
        "n_estimators = [10, 1000,10000]\n",
        "max_features = ['sqrt', 'log2']\n",
        "rf_grid = dict(n_estimators=n_estimators,max_features=max_features)\n",
        "\n",
        "#Logistic Regression\n",
        "solvers = ['newton-cg', 'lbfgs', 'liblinear']\n",
        "penalty = ['l2']\n",
        "c_values = [100, 1.0, 0.01]\n",
        "lr_grid = dict(solver=solvers,penalty=penalty,C=c_values)\n",
        "\n",
        "#LGB\n",
        "class_weight = [None,'balanced']\n",
        "boosting_type = ['gbdt', 'goss', 'dart']\n",
        "num_leaves = [30,100,150] #list(range(30, 150)),\n",
        "learning_rate = list(np.logspace(np.log(0.005), np.log(0.2), base = np.exp(1), num = 10)) #1000\n",
        "lgg_grid = dict(class_weight=class_weight, boosting_type=boosting_type, num_leaves=num_leaves, learning_rate =learning_rate)"
      ],
      "metadata": {
        "id": "mlwNlHBNIvkY"
      },
      "execution_count": 43,
      "outputs": []
    },
    {
      "cell_type": "code",
      "source": [
        "models = [sgd,ridge,knn,svc,bag,rf,lr,lgg]\n",
        "\n",
        "grids = [sgd_grid,ridge_grid,knn_grid,svc_grid,bag_grid,rf_grid,lr_grid,lgg_grid]\n",
        "col = 0\n",
        "\n",
        "# Aplicamos RandomSearchCV\n",
        "from scipy.stats import randint as sp_randint\n",
        "from sklearn.model_selection import RandomizedSearchCV\n",
        "\n",
        "col = 0\n",
        "for ind in range(0,len(models)):\n",
        "    cv = RepeatedStratifiedKFold(n_splits=10, n_repeats=3, \n",
        "                                 random_state=1)\n",
        "    n_iter_search = 3\n",
        "    random_search = RandomizedSearchCV(models[col],\n",
        "    param_distributions=grids[col],n_iter=n_iter_search, cv=cv)\n",
        "    random_search.fit(x_train_4,y_train)\n",
        "    resul.iloc[2,col] = random_search.score(x_test_4,y_test)\n",
        "    col += 1\n",
        "    \n",
        "resul.head()"
      ],
      "metadata": {
        "id": "SzFcqgMBJXxa",
        "colab": {
          "base_uri": "https://localhost:8080/",
          "height": 175
        },
        "outputId": "d7c826fd-e262-4b54-c764-916846600274"
      },
      "execution_count": 44,
      "outputs": [
        {
          "output_type": "execute_result",
          "data": {
            "text/plain": [
              "                   SGD     Ridge       KNN       SVM   Bagging RndForest  \\\n",
              "Case                                                                       \n",
              "Standard      0.522045  0.716294  0.761661  0.771885  0.732268  0.739297   \n",
              "GridSearch           0         0         0         0         0         0   \n",
              "RandomSearch   0.78147  0.716294  0.764856  0.778914  0.743131  0.745687   \n",
              "\n",
              "                LogReg       LGB  \n",
              "Case                              \n",
              "Standard      0.776997  0.762939  \n",
              "GridSearch           0         0  \n",
              "RandomSearch  0.784026  0.772524  "
            ],
            "text/html": [
              "\n",
              "  <div id=\"df-64d373bf-83bc-47b6-a70f-31dc9c8405aa\">\n",
              "    <div class=\"colab-df-container\">\n",
              "      <div>\n",
              "<style scoped>\n",
              "    .dataframe tbody tr th:only-of-type {\n",
              "        vertical-align: middle;\n",
              "    }\n",
              "\n",
              "    .dataframe tbody tr th {\n",
              "        vertical-align: top;\n",
              "    }\n",
              "\n",
              "    .dataframe thead th {\n",
              "        text-align: right;\n",
              "    }\n",
              "</style>\n",
              "<table border=\"1\" class=\"dataframe\">\n",
              "  <thead>\n",
              "    <tr style=\"text-align: right;\">\n",
              "      <th></th>\n",
              "      <th>SGD</th>\n",
              "      <th>Ridge</th>\n",
              "      <th>KNN</th>\n",
              "      <th>SVM</th>\n",
              "      <th>Bagging</th>\n",
              "      <th>RndForest</th>\n",
              "      <th>LogReg</th>\n",
              "      <th>LGB</th>\n",
              "    </tr>\n",
              "    <tr>\n",
              "      <th>Case</th>\n",
              "      <th></th>\n",
              "      <th></th>\n",
              "      <th></th>\n",
              "      <th></th>\n",
              "      <th></th>\n",
              "      <th></th>\n",
              "      <th></th>\n",
              "      <th></th>\n",
              "    </tr>\n",
              "  </thead>\n",
              "  <tbody>\n",
              "    <tr>\n",
              "      <th>Standard</th>\n",
              "      <td>0.522045</td>\n",
              "      <td>0.716294</td>\n",
              "      <td>0.761661</td>\n",
              "      <td>0.771885</td>\n",
              "      <td>0.732268</td>\n",
              "      <td>0.739297</td>\n",
              "      <td>0.776997</td>\n",
              "      <td>0.762939</td>\n",
              "    </tr>\n",
              "    <tr>\n",
              "      <th>GridSearch</th>\n",
              "      <td>0</td>\n",
              "      <td>0</td>\n",
              "      <td>0</td>\n",
              "      <td>0</td>\n",
              "      <td>0</td>\n",
              "      <td>0</td>\n",
              "      <td>0</td>\n",
              "      <td>0</td>\n",
              "    </tr>\n",
              "    <tr>\n",
              "      <th>RandomSearch</th>\n",
              "      <td>0.78147</td>\n",
              "      <td>0.716294</td>\n",
              "      <td>0.764856</td>\n",
              "      <td>0.778914</td>\n",
              "      <td>0.743131</td>\n",
              "      <td>0.745687</td>\n",
              "      <td>0.784026</td>\n",
              "      <td>0.772524</td>\n",
              "    </tr>\n",
              "  </tbody>\n",
              "</table>\n",
              "</div>\n",
              "      <button class=\"colab-df-convert\" onclick=\"convertToInteractive('df-64d373bf-83bc-47b6-a70f-31dc9c8405aa')\"\n",
              "              title=\"Convert this dataframe to an interactive table.\"\n",
              "              style=\"display:none;\">\n",
              "        \n",
              "  <svg xmlns=\"http://www.w3.org/2000/svg\" height=\"24px\"viewBox=\"0 0 24 24\"\n",
              "       width=\"24px\">\n",
              "    <path d=\"M0 0h24v24H0V0z\" fill=\"none\"/>\n",
              "    <path d=\"M18.56 5.44l.94 2.06.94-2.06 2.06-.94-2.06-.94-.94-2.06-.94 2.06-2.06.94zm-11 1L8.5 8.5l.94-2.06 2.06-.94-2.06-.94L8.5 2.5l-.94 2.06-2.06.94zm10 10l.94 2.06.94-2.06 2.06-.94-2.06-.94-.94-2.06-.94 2.06-2.06.94z\"/><path d=\"M17.41 7.96l-1.37-1.37c-.4-.4-.92-.59-1.43-.59-.52 0-1.04.2-1.43.59L10.3 9.45l-7.72 7.72c-.78.78-.78 2.05 0 2.83L4 21.41c.39.39.9.59 1.41.59.51 0 1.02-.2 1.41-.59l7.78-7.78 2.81-2.81c.8-.78.8-2.07 0-2.86zM5.41 20L4 18.59l7.72-7.72 1.47 1.35L5.41 20z\"/>\n",
              "  </svg>\n",
              "      </button>\n",
              "      \n",
              "  <style>\n",
              "    .colab-df-container {\n",
              "      display:flex;\n",
              "      flex-wrap:wrap;\n",
              "      gap: 12px;\n",
              "    }\n",
              "\n",
              "    .colab-df-convert {\n",
              "      background-color: #E8F0FE;\n",
              "      border: none;\n",
              "      border-radius: 50%;\n",
              "      cursor: pointer;\n",
              "      display: none;\n",
              "      fill: #1967D2;\n",
              "      height: 32px;\n",
              "      padding: 0 0 0 0;\n",
              "      width: 32px;\n",
              "    }\n",
              "\n",
              "    .colab-df-convert:hover {\n",
              "      background-color: #E2EBFA;\n",
              "      box-shadow: 0px 1px 2px rgba(60, 64, 67, 0.3), 0px 1px 3px 1px rgba(60, 64, 67, 0.15);\n",
              "      fill: #174EA6;\n",
              "    }\n",
              "\n",
              "    [theme=dark] .colab-df-convert {\n",
              "      background-color: #3B4455;\n",
              "      fill: #D2E3FC;\n",
              "    }\n",
              "\n",
              "    [theme=dark] .colab-df-convert:hover {\n",
              "      background-color: #434B5C;\n",
              "      box-shadow: 0px 1px 3px 1px rgba(0, 0, 0, 0.15);\n",
              "      filter: drop-shadow(0px 1px 2px rgba(0, 0, 0, 0.3));\n",
              "      fill: #FFFFFF;\n",
              "    }\n",
              "  </style>\n",
              "\n",
              "      <script>\n",
              "        const buttonEl =\n",
              "          document.querySelector('#df-64d373bf-83bc-47b6-a70f-31dc9c8405aa button.colab-df-convert');\n",
              "        buttonEl.style.display =\n",
              "          google.colab.kernel.accessAllowed ? 'block' : 'none';\n",
              "\n",
              "        async function convertToInteractive(key) {\n",
              "          const element = document.querySelector('#df-64d373bf-83bc-47b6-a70f-31dc9c8405aa');\n",
              "          const dataTable =\n",
              "            await google.colab.kernel.invokeFunction('convertToInteractive',\n",
              "                                                     [key], {});\n",
              "          if (!dataTable) return;\n",
              "\n",
              "          const docLinkHtml = 'Like what you see? Visit the ' +\n",
              "            '<a target=\"_blank\" href=https://colab.research.google.com/notebooks/data_table.ipynb>data table notebook</a>'\n",
              "            + ' to learn more about interactive tables.';\n",
              "          element.innerHTML = '';\n",
              "          dataTable['output_type'] = 'display_data';\n",
              "          await google.colab.output.renderOutput(dataTable, element);\n",
              "          const docLink = document.createElement('div');\n",
              "          docLink.innerHTML = docLinkHtml;\n",
              "          element.appendChild(docLink);\n",
              "        }\n",
              "      </script>\n",
              "    </div>\n",
              "  </div>\n",
              "  "
            ]
          },
          "metadata": {},
          "execution_count": 44
        }
      ]
    },
    {
      "cell_type": "code",
      "source": [
        "models = [sgd,ridge,knn,svc,bag,rf,lr,lgg]\n",
        "\n",
        "grids = [sgd_grid,ridge_grid,knn_grid,svc_grid,bag_grid,rf_grid,lr_grid,lgg_grid]\n",
        "col = 0\n",
        "# Aplicación de GridSearchCV\n",
        "for ind in range(0,len(models)):\n",
        "    cv = RepeatedStratifiedKFold(n_splits=10, n_repeats=3,random_state=1)\n",
        "    grid_search = GridSearchCV(estimator=models[col], \n",
        "                  param_grid=grids[col], n_jobs=-1, cv=cv,  \n",
        "                  scoring='accuracy',error_score=0)\n",
        "    grid_clf_acc = grid_search.fit(x_train_hot, y_train)\n",
        "    resul.iloc[1,col] = grid_clf_acc.score(x_test_hot,y_test)\n",
        "    col += 1\n",
        "\n",
        "resul.head()"
      ],
      "metadata": {
        "colab": {
          "base_uri": "https://localhost:8080/",
          "height": 231
        },
        "id": "Pbxn1PM7I6Ll",
        "outputId": "054758c0-5cb4-4700-afbf-5e16420520cd"
      },
      "execution_count": 32,
      "outputs": [
        {
          "output_type": "stream",
          "name": "stderr",
          "text": [
            "/usr/local/lib/python3.7/dist-packages/joblib/externals/loky/process_executor.py:705: UserWarning: A worker stopped while some jobs were given to the executor. This can be caused by a too short worker timeout or by a memory leak.\n",
            "  \"timeout or by a memory leak.\", UserWarning\n"
          ]
        },
        {
          "output_type": "execute_result",
          "data": {
            "text/plain": [
              "                   SGD     Ridge       KNN       SVM   Bagging RndForest  \\\n",
              "Case                                                                       \n",
              "Standard      0.705431  0.771885  0.654313  0.684984  0.773163  0.791693   \n",
              "GridSearch    0.791693  0.771885  0.672843  0.674121  0.796166  0.803834   \n",
              "RandomSearch         0         0         0         0         0         0   \n",
              "\n",
              "                LogReg       LGB  \n",
              "Case                              \n",
              "Standard      0.792332  0.814058  \n",
              "GridSearch    0.795527  0.814058  \n",
              "RandomSearch         0         0  "
            ],
            "text/html": [
              "\n",
              "  <div id=\"df-4bafd8fe-954b-4565-bbad-0b59ae0e5864\">\n",
              "    <div class=\"colab-df-container\">\n",
              "      <div>\n",
              "<style scoped>\n",
              "    .dataframe tbody tr th:only-of-type {\n",
              "        vertical-align: middle;\n",
              "    }\n",
              "\n",
              "    .dataframe tbody tr th {\n",
              "        vertical-align: top;\n",
              "    }\n",
              "\n",
              "    .dataframe thead th {\n",
              "        text-align: right;\n",
              "    }\n",
              "</style>\n",
              "<table border=\"1\" class=\"dataframe\">\n",
              "  <thead>\n",
              "    <tr style=\"text-align: right;\">\n",
              "      <th></th>\n",
              "      <th>SGD</th>\n",
              "      <th>Ridge</th>\n",
              "      <th>KNN</th>\n",
              "      <th>SVM</th>\n",
              "      <th>Bagging</th>\n",
              "      <th>RndForest</th>\n",
              "      <th>LogReg</th>\n",
              "      <th>LGB</th>\n",
              "    </tr>\n",
              "    <tr>\n",
              "      <th>Case</th>\n",
              "      <th></th>\n",
              "      <th></th>\n",
              "      <th></th>\n",
              "      <th></th>\n",
              "      <th></th>\n",
              "      <th></th>\n",
              "      <th></th>\n",
              "      <th></th>\n",
              "    </tr>\n",
              "  </thead>\n",
              "  <tbody>\n",
              "    <tr>\n",
              "      <th>Standard</th>\n",
              "      <td>0.705431</td>\n",
              "      <td>0.771885</td>\n",
              "      <td>0.654313</td>\n",
              "      <td>0.684984</td>\n",
              "      <td>0.773163</td>\n",
              "      <td>0.791693</td>\n",
              "      <td>0.792332</td>\n",
              "      <td>0.814058</td>\n",
              "    </tr>\n",
              "    <tr>\n",
              "      <th>GridSearch</th>\n",
              "      <td>0.791693</td>\n",
              "      <td>0.771885</td>\n",
              "      <td>0.672843</td>\n",
              "      <td>0.674121</td>\n",
              "      <td>0.796166</td>\n",
              "      <td>0.803834</td>\n",
              "      <td>0.795527</td>\n",
              "      <td>0.814058</td>\n",
              "    </tr>\n",
              "    <tr>\n",
              "      <th>RandomSearch</th>\n",
              "      <td>0</td>\n",
              "      <td>0</td>\n",
              "      <td>0</td>\n",
              "      <td>0</td>\n",
              "      <td>0</td>\n",
              "      <td>0</td>\n",
              "      <td>0</td>\n",
              "      <td>0</td>\n",
              "    </tr>\n",
              "  </tbody>\n",
              "</table>\n",
              "</div>\n",
              "      <button class=\"colab-df-convert\" onclick=\"convertToInteractive('df-4bafd8fe-954b-4565-bbad-0b59ae0e5864')\"\n",
              "              title=\"Convert this dataframe to an interactive table.\"\n",
              "              style=\"display:none;\">\n",
              "        \n",
              "  <svg xmlns=\"http://www.w3.org/2000/svg\" height=\"24px\"viewBox=\"0 0 24 24\"\n",
              "       width=\"24px\">\n",
              "    <path d=\"M0 0h24v24H0V0z\" fill=\"none\"/>\n",
              "    <path d=\"M18.56 5.44l.94 2.06.94-2.06 2.06-.94-2.06-.94-.94-2.06-.94 2.06-2.06.94zm-11 1L8.5 8.5l.94-2.06 2.06-.94-2.06-.94L8.5 2.5l-.94 2.06-2.06.94zm10 10l.94 2.06.94-2.06 2.06-.94-2.06-.94-.94-2.06-.94 2.06-2.06.94z\"/><path d=\"M17.41 7.96l-1.37-1.37c-.4-.4-.92-.59-1.43-.59-.52 0-1.04.2-1.43.59L10.3 9.45l-7.72 7.72c-.78.78-.78 2.05 0 2.83L4 21.41c.39.39.9.59 1.41.59.51 0 1.02-.2 1.41-.59l7.78-7.78 2.81-2.81c.8-.78.8-2.07 0-2.86zM5.41 20L4 18.59l7.72-7.72 1.47 1.35L5.41 20z\"/>\n",
              "  </svg>\n",
              "      </button>\n",
              "      \n",
              "  <style>\n",
              "    .colab-df-container {\n",
              "      display:flex;\n",
              "      flex-wrap:wrap;\n",
              "      gap: 12px;\n",
              "    }\n",
              "\n",
              "    .colab-df-convert {\n",
              "      background-color: #E8F0FE;\n",
              "      border: none;\n",
              "      border-radius: 50%;\n",
              "      cursor: pointer;\n",
              "      display: none;\n",
              "      fill: #1967D2;\n",
              "      height: 32px;\n",
              "      padding: 0 0 0 0;\n",
              "      width: 32px;\n",
              "    }\n",
              "\n",
              "    .colab-df-convert:hover {\n",
              "      background-color: #E2EBFA;\n",
              "      box-shadow: 0px 1px 2px rgba(60, 64, 67, 0.3), 0px 1px 3px 1px rgba(60, 64, 67, 0.15);\n",
              "      fill: #174EA6;\n",
              "    }\n",
              "\n",
              "    [theme=dark] .colab-df-convert {\n",
              "      background-color: #3B4455;\n",
              "      fill: #D2E3FC;\n",
              "    }\n",
              "\n",
              "    [theme=dark] .colab-df-convert:hover {\n",
              "      background-color: #434B5C;\n",
              "      box-shadow: 0px 1px 3px 1px rgba(0, 0, 0, 0.15);\n",
              "      filter: drop-shadow(0px 1px 2px rgba(0, 0, 0, 0.3));\n",
              "      fill: #FFFFFF;\n",
              "    }\n",
              "  </style>\n",
              "\n",
              "      <script>\n",
              "        const buttonEl =\n",
              "          document.querySelector('#df-4bafd8fe-954b-4565-bbad-0b59ae0e5864 button.colab-df-convert');\n",
              "        buttonEl.style.display =\n",
              "          google.colab.kernel.accessAllowed ? 'block' : 'none';\n",
              "\n",
              "        async function convertToInteractive(key) {\n",
              "          const element = document.querySelector('#df-4bafd8fe-954b-4565-bbad-0b59ae0e5864');\n",
              "          const dataTable =\n",
              "            await google.colab.kernel.invokeFunction('convertToInteractive',\n",
              "                                                     [key], {});\n",
              "          if (!dataTable) return;\n",
              "\n",
              "          const docLinkHtml = 'Like what you see? Visit the ' +\n",
              "            '<a target=\"_blank\" href=https://colab.research.google.com/notebooks/data_table.ipynb>data table notebook</a>'\n",
              "            + ' to learn more about interactive tables.';\n",
              "          element.innerHTML = '';\n",
              "          dataTable['output_type'] = 'display_data';\n",
              "          await google.colab.output.renderOutput(dataTable, element);\n",
              "          const docLink = document.createElement('div');\n",
              "          docLink.innerHTML = docLinkHtml;\n",
              "          element.appendChild(docLink);\n",
              "        }\n",
              "      </script>\n",
              "    </div>\n",
              "  </div>\n",
              "  "
            ]
          },
          "metadata": {},
          "execution_count": 32
        }
      ]
    },
    {
      "cell_type": "markdown",
      "metadata": {
        "id": "aP3eV7ziuXSP"
      },
      "source": [
        "## Generar la salida para entregar"
      ]
    },
    {
      "cell_type": "code",
      "execution_count": 32,
      "metadata": {
        "id": "vbyWeTw0uXSP"
      },
      "outputs": [],
      "source": [
        "test_df = pd.read_csv('test.csv')"
      ]
    },
    {
      "cell_type": "code",
      "execution_count": 33,
      "metadata": {
        "id": "dh-lVYcouXSP",
        "colab": {
          "base_uri": "https://localhost:8080/",
          "height": 423
        },
        "outputId": "7829e8b0-7c26-468c-8195-943d08e5aa1c"
      },
      "outputs": [
        {
          "output_type": "execute_result",
          "data": {
            "text/plain": [
              "     PassengerId HomePlanet CryoSleep     Cabin    Destination   Age    VIP  \\\n",
              "0            415     Europa      True       NaN    55 Cancri e  34.0  False   \n",
              "1           8663      Earth      True  G/1489/S  PSO J318.5-22  13.0  False   \n",
              "2           4524      Earth     False   G/776/P    TRAPPIST-1e  44.0  False   \n",
              "3           8246      Earth     False   E/577/S  PSO J318.5-22  63.0  False   \n",
              "4           2935     Europa     False   B/117/S    55 Cancri e  10.0  False   \n",
              "..           ...        ...       ...       ...            ...   ...    ...   \n",
              "865         5996       Mars     False  F/1212/S    TRAPPIST-1e  54.0  False   \n",
              "866         5478      Earth      True   G/947/S    TRAPPIST-1e  58.0  False   \n",
              "867         6760      Earth      True  G/1148/P  PSO J318.5-22  18.0  False   \n",
              "868         1437      Earth     False   F/293/S    TRAPPIST-1e  18.0  False   \n",
              "869         5171      Earth     False  F/1059/S    TRAPPIST-1e  20.0  False   \n",
              "\n",
              "     RoomService  FoodCourt  ShoppingMall    Spa  VRDeck                Name  \n",
              "0            0.0        0.0           0.0    0.0     0.0  Minopus Taptiritty  \n",
              "1            0.0        0.0           0.0    0.0     0.0     Chrisa Francock  \n",
              "2           22.0        1.0           0.0  864.0     0.0        Elinda Miley  \n",
              "3            0.0        0.0          80.0    0.0  2322.0        Karley Goods  \n",
              "4            0.0        0.0           0.0    0.0     0.0   Arkard Sechausive  \n",
              "..           ...        ...           ...    ...     ...                 ...  \n",
              "865        676.0        0.0         231.0  379.0     0.0          Anch Perta  \n",
              "866          0.0        0.0           0.0    0.0     0.0        Hughy Hessey  \n",
              "867          0.0        0.0           0.0    0.0     0.0      Heidie Kimpson  \n",
              "868        765.0        0.0          13.0    0.0     0.0      Herina Oconley  \n",
              "869          0.0        0.0           0.0  703.0     0.0    Ollip Hinglendez  \n",
              "\n",
              "[870 rows x 13 columns]"
            ],
            "text/html": [
              "\n",
              "  <div id=\"df-3b10b042-e642-462d-bd9b-707a63cdf9d3\">\n",
              "    <div class=\"colab-df-container\">\n",
              "      <div>\n",
              "<style scoped>\n",
              "    .dataframe tbody tr th:only-of-type {\n",
              "        vertical-align: middle;\n",
              "    }\n",
              "\n",
              "    .dataframe tbody tr th {\n",
              "        vertical-align: top;\n",
              "    }\n",
              "\n",
              "    .dataframe thead th {\n",
              "        text-align: right;\n",
              "    }\n",
              "</style>\n",
              "<table border=\"1\" class=\"dataframe\">\n",
              "  <thead>\n",
              "    <tr style=\"text-align: right;\">\n",
              "      <th></th>\n",
              "      <th>PassengerId</th>\n",
              "      <th>HomePlanet</th>\n",
              "      <th>CryoSleep</th>\n",
              "      <th>Cabin</th>\n",
              "      <th>Destination</th>\n",
              "      <th>Age</th>\n",
              "      <th>VIP</th>\n",
              "      <th>RoomService</th>\n",
              "      <th>FoodCourt</th>\n",
              "      <th>ShoppingMall</th>\n",
              "      <th>Spa</th>\n",
              "      <th>VRDeck</th>\n",
              "      <th>Name</th>\n",
              "    </tr>\n",
              "  </thead>\n",
              "  <tbody>\n",
              "    <tr>\n",
              "      <th>0</th>\n",
              "      <td>415</td>\n",
              "      <td>Europa</td>\n",
              "      <td>True</td>\n",
              "      <td>NaN</td>\n",
              "      <td>55 Cancri e</td>\n",
              "      <td>34.0</td>\n",
              "      <td>False</td>\n",
              "      <td>0.0</td>\n",
              "      <td>0.0</td>\n",
              "      <td>0.0</td>\n",
              "      <td>0.0</td>\n",
              "      <td>0.0</td>\n",
              "      <td>Minopus Taptiritty</td>\n",
              "    </tr>\n",
              "    <tr>\n",
              "      <th>1</th>\n",
              "      <td>8663</td>\n",
              "      <td>Earth</td>\n",
              "      <td>True</td>\n",
              "      <td>G/1489/S</td>\n",
              "      <td>PSO J318.5-22</td>\n",
              "      <td>13.0</td>\n",
              "      <td>False</td>\n",
              "      <td>0.0</td>\n",
              "      <td>0.0</td>\n",
              "      <td>0.0</td>\n",
              "      <td>0.0</td>\n",
              "      <td>0.0</td>\n",
              "      <td>Chrisa Francock</td>\n",
              "    </tr>\n",
              "    <tr>\n",
              "      <th>2</th>\n",
              "      <td>4524</td>\n",
              "      <td>Earth</td>\n",
              "      <td>False</td>\n",
              "      <td>G/776/P</td>\n",
              "      <td>TRAPPIST-1e</td>\n",
              "      <td>44.0</td>\n",
              "      <td>False</td>\n",
              "      <td>22.0</td>\n",
              "      <td>1.0</td>\n",
              "      <td>0.0</td>\n",
              "      <td>864.0</td>\n",
              "      <td>0.0</td>\n",
              "      <td>Elinda Miley</td>\n",
              "    </tr>\n",
              "    <tr>\n",
              "      <th>3</th>\n",
              "      <td>8246</td>\n",
              "      <td>Earth</td>\n",
              "      <td>False</td>\n",
              "      <td>E/577/S</td>\n",
              "      <td>PSO J318.5-22</td>\n",
              "      <td>63.0</td>\n",
              "      <td>False</td>\n",
              "      <td>0.0</td>\n",
              "      <td>0.0</td>\n",
              "      <td>80.0</td>\n",
              "      <td>0.0</td>\n",
              "      <td>2322.0</td>\n",
              "      <td>Karley Goods</td>\n",
              "    </tr>\n",
              "    <tr>\n",
              "      <th>4</th>\n",
              "      <td>2935</td>\n",
              "      <td>Europa</td>\n",
              "      <td>False</td>\n",
              "      <td>B/117/S</td>\n",
              "      <td>55 Cancri e</td>\n",
              "      <td>10.0</td>\n",
              "      <td>False</td>\n",
              "      <td>0.0</td>\n",
              "      <td>0.0</td>\n",
              "      <td>0.0</td>\n",
              "      <td>0.0</td>\n",
              "      <td>0.0</td>\n",
              "      <td>Arkard Sechausive</td>\n",
              "    </tr>\n",
              "    <tr>\n",
              "      <th>...</th>\n",
              "      <td>...</td>\n",
              "      <td>...</td>\n",
              "      <td>...</td>\n",
              "      <td>...</td>\n",
              "      <td>...</td>\n",
              "      <td>...</td>\n",
              "      <td>...</td>\n",
              "      <td>...</td>\n",
              "      <td>...</td>\n",
              "      <td>...</td>\n",
              "      <td>...</td>\n",
              "      <td>...</td>\n",
              "      <td>...</td>\n",
              "    </tr>\n",
              "    <tr>\n",
              "      <th>865</th>\n",
              "      <td>5996</td>\n",
              "      <td>Mars</td>\n",
              "      <td>False</td>\n",
              "      <td>F/1212/S</td>\n",
              "      <td>TRAPPIST-1e</td>\n",
              "      <td>54.0</td>\n",
              "      <td>False</td>\n",
              "      <td>676.0</td>\n",
              "      <td>0.0</td>\n",
              "      <td>231.0</td>\n",
              "      <td>379.0</td>\n",
              "      <td>0.0</td>\n",
              "      <td>Anch Perta</td>\n",
              "    </tr>\n",
              "    <tr>\n",
              "      <th>866</th>\n",
              "      <td>5478</td>\n",
              "      <td>Earth</td>\n",
              "      <td>True</td>\n",
              "      <td>G/947/S</td>\n",
              "      <td>TRAPPIST-1e</td>\n",
              "      <td>58.0</td>\n",
              "      <td>False</td>\n",
              "      <td>0.0</td>\n",
              "      <td>0.0</td>\n",
              "      <td>0.0</td>\n",
              "      <td>0.0</td>\n",
              "      <td>0.0</td>\n",
              "      <td>Hughy Hessey</td>\n",
              "    </tr>\n",
              "    <tr>\n",
              "      <th>867</th>\n",
              "      <td>6760</td>\n",
              "      <td>Earth</td>\n",
              "      <td>True</td>\n",
              "      <td>G/1148/P</td>\n",
              "      <td>PSO J318.5-22</td>\n",
              "      <td>18.0</td>\n",
              "      <td>False</td>\n",
              "      <td>0.0</td>\n",
              "      <td>0.0</td>\n",
              "      <td>0.0</td>\n",
              "      <td>0.0</td>\n",
              "      <td>0.0</td>\n",
              "      <td>Heidie Kimpson</td>\n",
              "    </tr>\n",
              "    <tr>\n",
              "      <th>868</th>\n",
              "      <td>1437</td>\n",
              "      <td>Earth</td>\n",
              "      <td>False</td>\n",
              "      <td>F/293/S</td>\n",
              "      <td>TRAPPIST-1e</td>\n",
              "      <td>18.0</td>\n",
              "      <td>False</td>\n",
              "      <td>765.0</td>\n",
              "      <td>0.0</td>\n",
              "      <td>13.0</td>\n",
              "      <td>0.0</td>\n",
              "      <td>0.0</td>\n",
              "      <td>Herina Oconley</td>\n",
              "    </tr>\n",
              "    <tr>\n",
              "      <th>869</th>\n",
              "      <td>5171</td>\n",
              "      <td>Earth</td>\n",
              "      <td>False</td>\n",
              "      <td>F/1059/S</td>\n",
              "      <td>TRAPPIST-1e</td>\n",
              "      <td>20.0</td>\n",
              "      <td>False</td>\n",
              "      <td>0.0</td>\n",
              "      <td>0.0</td>\n",
              "      <td>0.0</td>\n",
              "      <td>703.0</td>\n",
              "      <td>0.0</td>\n",
              "      <td>Ollip Hinglendez</td>\n",
              "    </tr>\n",
              "  </tbody>\n",
              "</table>\n",
              "<p>870 rows × 13 columns</p>\n",
              "</div>\n",
              "      <button class=\"colab-df-convert\" onclick=\"convertToInteractive('df-3b10b042-e642-462d-bd9b-707a63cdf9d3')\"\n",
              "              title=\"Convert this dataframe to an interactive table.\"\n",
              "              style=\"display:none;\">\n",
              "        \n",
              "  <svg xmlns=\"http://www.w3.org/2000/svg\" height=\"24px\"viewBox=\"0 0 24 24\"\n",
              "       width=\"24px\">\n",
              "    <path d=\"M0 0h24v24H0V0z\" fill=\"none\"/>\n",
              "    <path d=\"M18.56 5.44l.94 2.06.94-2.06 2.06-.94-2.06-.94-.94-2.06-.94 2.06-2.06.94zm-11 1L8.5 8.5l.94-2.06 2.06-.94-2.06-.94L8.5 2.5l-.94 2.06-2.06.94zm10 10l.94 2.06.94-2.06 2.06-.94-2.06-.94-.94-2.06-.94 2.06-2.06.94z\"/><path d=\"M17.41 7.96l-1.37-1.37c-.4-.4-.92-.59-1.43-.59-.52 0-1.04.2-1.43.59L10.3 9.45l-7.72 7.72c-.78.78-.78 2.05 0 2.83L4 21.41c.39.39.9.59 1.41.59.51 0 1.02-.2 1.41-.59l7.78-7.78 2.81-2.81c.8-.78.8-2.07 0-2.86zM5.41 20L4 18.59l7.72-7.72 1.47 1.35L5.41 20z\"/>\n",
              "  </svg>\n",
              "      </button>\n",
              "      \n",
              "  <style>\n",
              "    .colab-df-container {\n",
              "      display:flex;\n",
              "      flex-wrap:wrap;\n",
              "      gap: 12px;\n",
              "    }\n",
              "\n",
              "    .colab-df-convert {\n",
              "      background-color: #E8F0FE;\n",
              "      border: none;\n",
              "      border-radius: 50%;\n",
              "      cursor: pointer;\n",
              "      display: none;\n",
              "      fill: #1967D2;\n",
              "      height: 32px;\n",
              "      padding: 0 0 0 0;\n",
              "      width: 32px;\n",
              "    }\n",
              "\n",
              "    .colab-df-convert:hover {\n",
              "      background-color: #E2EBFA;\n",
              "      box-shadow: 0px 1px 2px rgba(60, 64, 67, 0.3), 0px 1px 3px 1px rgba(60, 64, 67, 0.15);\n",
              "      fill: #174EA6;\n",
              "    }\n",
              "\n",
              "    [theme=dark] .colab-df-convert {\n",
              "      background-color: #3B4455;\n",
              "      fill: #D2E3FC;\n",
              "    }\n",
              "\n",
              "    [theme=dark] .colab-df-convert:hover {\n",
              "      background-color: #434B5C;\n",
              "      box-shadow: 0px 1px 3px 1px rgba(0, 0, 0, 0.15);\n",
              "      filter: drop-shadow(0px 1px 2px rgba(0, 0, 0, 0.3));\n",
              "      fill: #FFFFFF;\n",
              "    }\n",
              "  </style>\n",
              "\n",
              "      <script>\n",
              "        const buttonEl =\n",
              "          document.querySelector('#df-3b10b042-e642-462d-bd9b-707a63cdf9d3 button.colab-df-convert');\n",
              "        buttonEl.style.display =\n",
              "          google.colab.kernel.accessAllowed ? 'block' : 'none';\n",
              "\n",
              "        async function convertToInteractive(key) {\n",
              "          const element = document.querySelector('#df-3b10b042-e642-462d-bd9b-707a63cdf9d3');\n",
              "          const dataTable =\n",
              "            await google.colab.kernel.invokeFunction('convertToInteractive',\n",
              "                                                     [key], {});\n",
              "          if (!dataTable) return;\n",
              "\n",
              "          const docLinkHtml = 'Like what you see? Visit the ' +\n",
              "            '<a target=\"_blank\" href=https://colab.research.google.com/notebooks/data_table.ipynb>data table notebook</a>'\n",
              "            + ' to learn more about interactive tables.';\n",
              "          element.innerHTML = '';\n",
              "          dataTable['output_type'] = 'display_data';\n",
              "          await google.colab.output.renderOutput(dataTable, element);\n",
              "          const docLink = document.createElement('div');\n",
              "          docLink.innerHTML = docLinkHtml;\n",
              "          element.appendChild(docLink);\n",
              "        }\n",
              "      </script>\n",
              "    </div>\n",
              "  </div>\n",
              "  "
            ]
          },
          "metadata": {},
          "execution_count": 33
        }
      ],
      "source": [
        "test_df"
      ]
    },
    {
      "cell_type": "code",
      "source": [
        "# Transformaciones sobre el DATASET PARA ENVIAR\n",
        "#Subdividimos la columna Cabin para poder utilizar sus características como variables independientes\n",
        "test_df[['Piso','Num', \"Lado\"]] = test_df.Cabin.str.split('/',expand=True)\n",
        "\n",
        "# Convertimos las variables a un dtype conveniente\n",
        "test_df[[\"HomePlanet\", \"CryoSleep\", \"Destination\", \"VIP\", 'Piso', \"Lado\"]]  = test_df[[\"HomePlanet\", \"CryoSleep\", \"Destination\", \"VIP\", 'Piso', \"Lado\"]].astype(\"category\")\n",
        "\n",
        "# Imputamos valores faltantes en las columnas categóricas y booleanas con el valor más frecuente.\n",
        "imputer = SimpleImputer(strategy=\"most_frequent\")\n",
        "test_df[[\"HomePlanet\", \"Destination\", 'Piso', \"Lado\", \"CryoSleep\", \"VIP\"]] = imputer.fit_transform(test_df[[\"HomePlanet\", \"Destination\", 'Piso', \"Lado\", \"CryoSleep\", \"VIP\"]])\n",
        "# Imputamos valores faltantes en las columnas cuantitativas con KNN. \n",
        "Qcols = ['Age', 'RoomService', 'FoodCourt', 'ShoppingMall', 'Spa', 'VRDeck']\n",
        "imputerKNN = KNNImputer()\n",
        "test_df[Qcols] = imputerKNN.fit_transform(test_df[Qcols])\n",
        "\n",
        "# Escalamiento\n",
        "escalador = preprocessing.RobustScaler()\n",
        "test_df[['Age', 'RoomService', 'FoodCourt', 'ShoppingMall', 'Spa', 'VRDeck']] = escalador.fit_transform(test_df[['Age', 'RoomService', 'FoodCourt', 'ShoppingMall', 'Spa', 'VRDeck']])\n",
        "\n",
        "# Hot encoding a las categóricas\n",
        "test_df_hot = pd.get_dummies(data=test_df, columns=[\"HomePlanet\", \"Destination\", 'Piso', \"Lado\"]).drop(columns=['Cabin', 'Num', 'Name'])\n",
        "\n",
        "test_df_hot = test_df_hot.drop(columns=['Piso_T']) #Tuve que eliminar esta columna porque estaba ausente en el conjunto de test\n",
        "print(test_df_hot.shape)\n",
        "test_df_hot[[\"CryoSleep\", \"VIP\"]] = test_df_hot[[\"CryoSleep\", \"VIP\"]].astype(\"float64\")"
      ],
      "metadata": {
        "colab": {
          "base_uri": "https://localhost:8080/"
        },
        "id": "P3DVlraoeIuP",
        "outputId": "b7dc3cce-40ae-497f-d921-c25df14c6e8a"
      },
      "execution_count": 38,
      "outputs": [
        {
          "output_type": "stream",
          "name": "stdout",
          "text": [
            "(870, 24)\n"
          ]
        }
      ]
    },
    {
      "cell_type": "markdown",
      "metadata": {
        "id": "CmjU816quXSQ"
      },
      "source": [
        "Para poder evaluar nuestra predicción los datos de prueba deben tener exactamente el mismo tratamiento que los datos de entrenamiento"
      ]
    },
    {
      "cell_type": "markdown",
      "metadata": {
        "id": "p00Y57myuXSQ"
      },
      "source": [
        "Generamos la salida"
      ]
    },
    {
      "cell_type": "code",
      "execution_count": 42,
      "metadata": {
        "id": "wh3tcdZQuXSQ"
      },
      "outputs": [],
      "source": [
        "test_df_cols = test_df_hot.drop(columns=[\"PassengerId\"])\n",
        "test_id = test_df_hot['PassengerId']\n",
        "\n"
      ]
    },
    {
      "cell_type": "code",
      "source": [
        "test_pred = BestCaro.predict(test_df_hot)"
      ],
      "metadata": {
        "id": "ir-nptJHiJTi"
      },
      "execution_count": 45,
      "outputs": []
    },
    {
      "cell_type": "code",
      "execution_count": 49,
      "metadata": {
        "id": "VQXsawFcuXSR"
      },
      "outputs": [],
      "source": [
        "submission = pd.DataFrame(list(zip(test_id, test_pred)), columns=[\"PassengerId\", \"Transported\"])\n",
        "submission.to_csv(\"submission_G32_SGO.csv\", header=True, index=False)\n"
      ]
    },
    {
      "cell_type": "code",
      "source": [
        "submission.head()"
      ],
      "metadata": {
        "colab": {
          "base_uri": "https://localhost:8080/",
          "height": 206
        },
        "id": "_wmZGWdNiq1e",
        "outputId": "d93341e3-fee8-4dde-c0b6-5c42cef7b5da"
      },
      "execution_count": 47,
      "outputs": [
        {
          "output_type": "execute_result",
          "data": {
            "text/plain": [
              "   PassengerId  Transported\n",
              "0          415            1\n",
              "1         8663            1\n",
              "2         4524            0\n",
              "3         8246            0\n",
              "4         2935            1"
            ],
            "text/html": [
              "\n",
              "  <div id=\"df-c20d19d0-e7aa-44d2-b8eb-90d0b701cec4\">\n",
              "    <div class=\"colab-df-container\">\n",
              "      <div>\n",
              "<style scoped>\n",
              "    .dataframe tbody tr th:only-of-type {\n",
              "        vertical-align: middle;\n",
              "    }\n",
              "\n",
              "    .dataframe tbody tr th {\n",
              "        vertical-align: top;\n",
              "    }\n",
              "\n",
              "    .dataframe thead th {\n",
              "        text-align: right;\n",
              "    }\n",
              "</style>\n",
              "<table border=\"1\" class=\"dataframe\">\n",
              "  <thead>\n",
              "    <tr style=\"text-align: right;\">\n",
              "      <th></th>\n",
              "      <th>PassengerId</th>\n",
              "      <th>Transported</th>\n",
              "    </tr>\n",
              "  </thead>\n",
              "  <tbody>\n",
              "    <tr>\n",
              "      <th>0</th>\n",
              "      <td>415</td>\n",
              "      <td>1</td>\n",
              "    </tr>\n",
              "    <tr>\n",
              "      <th>1</th>\n",
              "      <td>8663</td>\n",
              "      <td>1</td>\n",
              "    </tr>\n",
              "    <tr>\n",
              "      <th>2</th>\n",
              "      <td>4524</td>\n",
              "      <td>0</td>\n",
              "    </tr>\n",
              "    <tr>\n",
              "      <th>3</th>\n",
              "      <td>8246</td>\n",
              "      <td>0</td>\n",
              "    </tr>\n",
              "    <tr>\n",
              "      <th>4</th>\n",
              "      <td>2935</td>\n",
              "      <td>1</td>\n",
              "    </tr>\n",
              "  </tbody>\n",
              "</table>\n",
              "</div>\n",
              "      <button class=\"colab-df-convert\" onclick=\"convertToInteractive('df-c20d19d0-e7aa-44d2-b8eb-90d0b701cec4')\"\n",
              "              title=\"Convert this dataframe to an interactive table.\"\n",
              "              style=\"display:none;\">\n",
              "        \n",
              "  <svg xmlns=\"http://www.w3.org/2000/svg\" height=\"24px\"viewBox=\"0 0 24 24\"\n",
              "       width=\"24px\">\n",
              "    <path d=\"M0 0h24v24H0V0z\" fill=\"none\"/>\n",
              "    <path d=\"M18.56 5.44l.94 2.06.94-2.06 2.06-.94-2.06-.94-.94-2.06-.94 2.06-2.06.94zm-11 1L8.5 8.5l.94-2.06 2.06-.94-2.06-.94L8.5 2.5l-.94 2.06-2.06.94zm10 10l.94 2.06.94-2.06 2.06-.94-2.06-.94-.94-2.06-.94 2.06-2.06.94z\"/><path d=\"M17.41 7.96l-1.37-1.37c-.4-.4-.92-.59-1.43-.59-.52 0-1.04.2-1.43.59L10.3 9.45l-7.72 7.72c-.78.78-.78 2.05 0 2.83L4 21.41c.39.39.9.59 1.41.59.51 0 1.02-.2 1.41-.59l7.78-7.78 2.81-2.81c.8-.78.8-2.07 0-2.86zM5.41 20L4 18.59l7.72-7.72 1.47 1.35L5.41 20z\"/>\n",
              "  </svg>\n",
              "      </button>\n",
              "      \n",
              "  <style>\n",
              "    .colab-df-container {\n",
              "      display:flex;\n",
              "      flex-wrap:wrap;\n",
              "      gap: 12px;\n",
              "    }\n",
              "\n",
              "    .colab-df-convert {\n",
              "      background-color: #E8F0FE;\n",
              "      border: none;\n",
              "      border-radius: 50%;\n",
              "      cursor: pointer;\n",
              "      display: none;\n",
              "      fill: #1967D2;\n",
              "      height: 32px;\n",
              "      padding: 0 0 0 0;\n",
              "      width: 32px;\n",
              "    }\n",
              "\n",
              "    .colab-df-convert:hover {\n",
              "      background-color: #E2EBFA;\n",
              "      box-shadow: 0px 1px 2px rgba(60, 64, 67, 0.3), 0px 1px 3px 1px rgba(60, 64, 67, 0.15);\n",
              "      fill: #174EA6;\n",
              "    }\n",
              "\n",
              "    [theme=dark] .colab-df-convert {\n",
              "      background-color: #3B4455;\n",
              "      fill: #D2E3FC;\n",
              "    }\n",
              "\n",
              "    [theme=dark] .colab-df-convert:hover {\n",
              "      background-color: #434B5C;\n",
              "      box-shadow: 0px 1px 3px 1px rgba(0, 0, 0, 0.15);\n",
              "      filter: drop-shadow(0px 1px 2px rgba(0, 0, 0, 0.3));\n",
              "      fill: #FFFFFF;\n",
              "    }\n",
              "  </style>\n",
              "\n",
              "      <script>\n",
              "        const buttonEl =\n",
              "          document.querySelector('#df-c20d19d0-e7aa-44d2-b8eb-90d0b701cec4 button.colab-df-convert');\n",
              "        buttonEl.style.display =\n",
              "          google.colab.kernel.accessAllowed ? 'block' : 'none';\n",
              "\n",
              "        async function convertToInteractive(key) {\n",
              "          const element = document.querySelector('#df-c20d19d0-e7aa-44d2-b8eb-90d0b701cec4');\n",
              "          const dataTable =\n",
              "            await google.colab.kernel.invokeFunction('convertToInteractive',\n",
              "                                                     [key], {});\n",
              "          if (!dataTable) return;\n",
              "\n",
              "          const docLinkHtml = 'Like what you see? Visit the ' +\n",
              "            '<a target=\"_blank\" href=https://colab.research.google.com/notebooks/data_table.ipynb>data table notebook</a>'\n",
              "            + ' to learn more about interactive tables.';\n",
              "          element.innerHTML = '';\n",
              "          dataTable['output_type'] = 'display_data';\n",
              "          await google.colab.output.renderOutput(dataTable, element);\n",
              "          const docLink = document.createElement('div');\n",
              "          docLink.innerHTML = docLinkHtml;\n",
              "          element.appendChild(docLink);\n",
              "        }\n",
              "      </script>\n",
              "    </div>\n",
              "  </div>\n",
              "  "
            ]
          },
          "metadata": {},
          "execution_count": 47
        }
      ]
    },
    {
      "cell_type": "code",
      "source": [
        ""
      ],
      "metadata": {
        "id": "33RTS15Eistu"
      },
      "execution_count": null,
      "outputs": []
    }
  ],
  "metadata": {
    "kernelspec": {
      "display_name": "Python 3.9.13 ('diplodatos')",
      "language": "python",
      "name": "python3"
    },
    "language_info": {
      "codemirror_mode": {
        "name": "ipython",
        "version": 3
      },
      "file_extension": ".py",
      "mimetype": "text/x-python",
      "name": "python",
      "nbconvert_exporter": "python",
      "pygments_lexer": "ipython3",
      "version": "3.9.13"
    },
    "orig_nbformat": 4,
    "vscode": {
      "interpreter": {
        "hash": "e6b65fc4380ac725e50a330b268a227bbdbe91bddfffbf68e5f7ce9848a2b8d5"
      }
    },
    "colab": {
      "name": "Practico_An_Sup_SGO_v4.ipynb",
      "provenance": [],
      "collapsed_sections": [],
      "include_colab_link": true
    }
  },
  "nbformat": 4,
  "nbformat_minor": 0
}